{
  "nbformat": 4,
  "nbformat_minor": 0,
  "metadata": {
    "colab": {
      "name": "Topic Modelling.ipynb",
      "provenance": [],
      "collapsed_sections": []
    },
    "kernelspec": {
      "name": "python3",
      "display_name": "Python 3"
    },
    "language_info": {
      "name": "python"
    }
  },
  "cells": [
    {
      "cell_type": "code",
      "execution_count": null,
      "metadata": {
        "id": "a9ANofYTffSd"
      },
      "outputs": [],
      "source": [
        "# !pip install transformers"
      ]
    },
    {
      "cell_type": "markdown",
      "source": [
        "## Intuitive Approach - Baseline"
      ],
      "metadata": {
        "id": "FUCDdAq_3Y3A"
      }
    },
    {
      "cell_type": "code",
      "source": [
        "# !python -m spacy download en_core_web_lg"
      ],
      "metadata": {
        "id": "vQgOto_33t-C"
      },
      "execution_count": null,
      "outputs": []
    },
    {
      "cell_type": "code",
      "source": [
        "import spacy\n",
        "import pandas as pd\n",
        "import re\n",
        "import spacy\n",
        "import en_core_web_lg\n",
        "nlp = en_core_web_lg.load()"
      ],
      "metadata": {
        "id": "5zAU_dTd7SD9"
      },
      "execution_count": null,
      "outputs": []
    },
    {
      "cell_type": "code",
      "source": [
        "text = \"A ratio showing how often people who see your ad or free product listing end up clicking it. \\\n",
        " Clickthrough rate (CTR) can be used to gauge how well your keywords and ads, and free listings, are performing.\\\n",
        " CTR is the number of clicks that your ad receives divided by the number of times your ad is shown: clicks ÷ impressions = CTR. \\\n",
        " For example, if you had 5 clicks and 100 impressions, then your CTR would be 5%.Each of your ads, listings, and keywords have \\\n",
        " their own CTRs that you can see listed in your account.A high CTR is a good indication that users find your ads and listings \\\n",
        " helpful and relevant. CTR also contributes to your keyword's expected CTR, which is a component of Ad Rank. Note that a good CTR \\\n",
        " is relative to what you're advertising and on which networks.You can use CTR to gauge which ads, listings, and keywords are successful \\\n",
        " for you and which need to be improved. The more your keywords, ads, and listings relate to each other and to your business, the more likely \\\n",
        " a user is to click on your ad or listing after searching on your keyword phrase.\""
      ],
      "metadata": {
        "id": "Hs8bEz-V_8fd"
      },
      "execution_count": null,
      "outputs": []
    },
    {
      "cell_type": "code",
      "source": [
        "### Data pre-processing\n",
        "'''\n",
        "Below function is to remove stop words and focus on nouns/pronouns/verbs\n",
        "'''\n",
        "def filter_tokens_info(row):\n",
        "  if ((row[7] == False ) & ((row[3] == 'NNP' ) |(row[3] == 'NN' ) |(row[3] == 'VBZ' ))):\n",
        "    return row\n",
        "\n",
        "    \n"
      ],
      "metadata": {
        "id": "47czw-y66ilG"
      },
      "execution_count": null,
      "outputs": []
    },
    {
      "cell_type": "code",
      "source": [
        "doc = nlp(text)\n",
        "token_info = []\n",
        "for token in doc:\n",
        "  token_info.append([token.text, token.lemma_, token.pos_, token.tag_, token.dep_,token.shape_, token.is_alpha, token.is_stop])\n",
        "token_info = pd.DataFrame(token_info,columns = ['text', 'lemma', 'pos_', 'tag', 'dep_','shape_', 'is_alpha', 'is_stop'] )\n",
        "\n",
        "# token_info = token_info.apply(lambda row : filter_tokens_info(row),axis = 1)\n",
        "# token_info.dropna(inplace = True)"
      ],
      "metadata": {
        "id": "46W_8aC13kYx"
      },
      "execution_count": null,
      "outputs": []
    },
    {
      "cell_type": "code",
      "source": [
        "print('Proper Nouns cover the main entities covered')\n",
        "print('\\n Proper Noun \\n',token_info[token_info['tag']=='NNP']['text'].unique())\n",
        "\n",
        "print('\\n \\n Nouns cover the main sub-entities covered')\n",
        "print('\\nNoun \\n',token_info[token_info['tag']=='NN']['text'].unique())\n",
        "\n",
        "print('\\n \\nVerbs cover the aspects/actions on subentities or entities covered')\n",
        "print('\\n Verbs\\n',token_info[token_info['tag']=='VBZ']['text'].unique())\n"
      ],
      "metadata": {
        "colab": {
          "base_uri": "https://localhost:8080/"
        },
        "id": "KoNz155s9rcR",
        "outputId": "4c37c64c-4966-4310-ace0-5f3e069c0c65"
      },
      "execution_count": null,
      "outputs": [
        {
          "output_type": "stream",
          "name": "stdout",
          "text": [
            "Proper Nouns cover the main entities covered\n",
            "\n",
            " Proper Noun \n",
            " ['Clickthrough' 'CTR' 'Ad' 'Rank']\n",
            "\n",
            " \n",
            " Nouns cover the main sub-entities covered\n",
            "\n",
            "Noun \n",
            " ['ratio' 'ad' 'product' 'listing' 'rate' 'number' 'example' 'account'\n",
            " 'indication' 'keyword' 'component' 'business' 'user' 'phrase']\n",
            "\n",
            " \n",
            "Verbs cover the aspects/actions on subentities or entities covered\n",
            "\n",
            " Verbs\n",
            " ['is' 'receives' 'contributes']\n"
          ]
        }
      ]
    },
    {
      "cell_type": "code",
      "source": [
        "Noun_chunks= []\n",
        "for chunk in doc.noun_chunks:\n",
        "  Noun_chunks.append([chunk.text, chunk.root.text, chunk.root.dep_,chunk.root.head.text])\n",
        "Noun_chunks = pd.DataFrame(Noun_chunks,columns = ['TEXT',\t'ROOT',\t'DEP_','HEAD'])\n",
        "print(Noun_chunks.DEP_.unique())\n",
        "Noun_chunks[Noun_chunks['DEP_'].isin(['attr'])]"
      ],
      "metadata": {
        "colab": {
          "base_uri": "https://localhost:8080/",
          "height": 161
        },
        "id": "vBAWQyKPHtNp",
        "outputId": "55cb566e-92e0-4e30-c610-f507650e8a37"
      },
      "execution_count": null,
      "outputs": [
        {
          "output_type": "stream",
          "name": "stdout",
          "text": [
            "['ROOT' 'nsubj' 'dobj' 'conj' 'nsubjpass' 'appos' 'attr' 'pobj']\n"
          ]
        },
        {
          "output_type": "execute_result",
          "data": {
            "text/plain": [
              "                 TEXT        ROOT  DEP_ HEAD\n",
              "12         the number      number  attr   is\n",
              "34  a good indication  indication  attr   is\n",
              "41        a component   component  attr   is"
            ],
            "text/html": [
              "\n",
              "  <div id=\"df-8bf4a649-1506-4d9b-b511-fd06b19aa349\">\n",
              "    <div class=\"colab-df-container\">\n",
              "      <div>\n",
              "<style scoped>\n",
              "    .dataframe tbody tr th:only-of-type {\n",
              "        vertical-align: middle;\n",
              "    }\n",
              "\n",
              "    .dataframe tbody tr th {\n",
              "        vertical-align: top;\n",
              "    }\n",
              "\n",
              "    .dataframe thead th {\n",
              "        text-align: right;\n",
              "    }\n",
              "</style>\n",
              "<table border=\"1\" class=\"dataframe\">\n",
              "  <thead>\n",
              "    <tr style=\"text-align: right;\">\n",
              "      <th></th>\n",
              "      <th>TEXT</th>\n",
              "      <th>ROOT</th>\n",
              "      <th>DEP_</th>\n",
              "      <th>HEAD</th>\n",
              "    </tr>\n",
              "  </thead>\n",
              "  <tbody>\n",
              "    <tr>\n",
              "      <th>12</th>\n",
              "      <td>the number</td>\n",
              "      <td>number</td>\n",
              "      <td>attr</td>\n",
              "      <td>is</td>\n",
              "    </tr>\n",
              "    <tr>\n",
              "      <th>34</th>\n",
              "      <td>a good indication</td>\n",
              "      <td>indication</td>\n",
              "      <td>attr</td>\n",
              "      <td>is</td>\n",
              "    </tr>\n",
              "    <tr>\n",
              "      <th>41</th>\n",
              "      <td>a component</td>\n",
              "      <td>component</td>\n",
              "      <td>attr</td>\n",
              "      <td>is</td>\n",
              "    </tr>\n",
              "  </tbody>\n",
              "</table>\n",
              "</div>\n",
              "      <button class=\"colab-df-convert\" onclick=\"convertToInteractive('df-8bf4a649-1506-4d9b-b511-fd06b19aa349')\"\n",
              "              title=\"Convert this dataframe to an interactive table.\"\n",
              "              style=\"display:none;\">\n",
              "        \n",
              "  <svg xmlns=\"http://www.w3.org/2000/svg\" height=\"24px\"viewBox=\"0 0 24 24\"\n",
              "       width=\"24px\">\n",
              "    <path d=\"M0 0h24v24H0V0z\" fill=\"none\"/>\n",
              "    <path d=\"M18.56 5.44l.94 2.06.94-2.06 2.06-.94-2.06-.94-.94-2.06-.94 2.06-2.06.94zm-11 1L8.5 8.5l.94-2.06 2.06-.94-2.06-.94L8.5 2.5l-.94 2.06-2.06.94zm10 10l.94 2.06.94-2.06 2.06-.94-2.06-.94-.94-2.06-.94 2.06-2.06.94z\"/><path d=\"M17.41 7.96l-1.37-1.37c-.4-.4-.92-.59-1.43-.59-.52 0-1.04.2-1.43.59L10.3 9.45l-7.72 7.72c-.78.78-.78 2.05 0 2.83L4 21.41c.39.39.9.59 1.41.59.51 0 1.02-.2 1.41-.59l7.78-7.78 2.81-2.81c.8-.78.8-2.07 0-2.86zM5.41 20L4 18.59l7.72-7.72 1.47 1.35L5.41 20z\"/>\n",
              "  </svg>\n",
              "      </button>\n",
              "      \n",
              "  <style>\n",
              "    .colab-df-container {\n",
              "      display:flex;\n",
              "      flex-wrap:wrap;\n",
              "      gap: 12px;\n",
              "    }\n",
              "\n",
              "    .colab-df-convert {\n",
              "      background-color: #E8F0FE;\n",
              "      border: none;\n",
              "      border-radius: 50%;\n",
              "      cursor: pointer;\n",
              "      display: none;\n",
              "      fill: #1967D2;\n",
              "      height: 32px;\n",
              "      padding: 0 0 0 0;\n",
              "      width: 32px;\n",
              "    }\n",
              "\n",
              "    .colab-df-convert:hover {\n",
              "      background-color: #E2EBFA;\n",
              "      box-shadow: 0px 1px 2px rgba(60, 64, 67, 0.3), 0px 1px 3px 1px rgba(60, 64, 67, 0.15);\n",
              "      fill: #174EA6;\n",
              "    }\n",
              "\n",
              "    [theme=dark] .colab-df-convert {\n",
              "      background-color: #3B4455;\n",
              "      fill: #D2E3FC;\n",
              "    }\n",
              "\n",
              "    [theme=dark] .colab-df-convert:hover {\n",
              "      background-color: #434B5C;\n",
              "      box-shadow: 0px 1px 3px 1px rgba(0, 0, 0, 0.15);\n",
              "      filter: drop-shadow(0px 1px 2px rgba(0, 0, 0, 0.3));\n",
              "      fill: #FFFFFF;\n",
              "    }\n",
              "  </style>\n",
              "\n",
              "      <script>\n",
              "        const buttonEl =\n",
              "          document.querySelector('#df-8bf4a649-1506-4d9b-b511-fd06b19aa349 button.colab-df-convert');\n",
              "        buttonEl.style.display =\n",
              "          google.colab.kernel.accessAllowed ? 'block' : 'none';\n",
              "\n",
              "        async function convertToInteractive(key) {\n",
              "          const element = document.querySelector('#df-8bf4a649-1506-4d9b-b511-fd06b19aa349');\n",
              "          const dataTable =\n",
              "            await google.colab.kernel.invokeFunction('convertToInteractive',\n",
              "                                                     [key], {});\n",
              "          if (!dataTable) return;\n",
              "\n",
              "          const docLinkHtml = 'Like what you see? Visit the ' +\n",
              "            '<a target=\"_blank\" href=https://colab.research.google.com/notebooks/data_table.ipynb>data table notebook</a>'\n",
              "            + ' to learn more about interactive tables.';\n",
              "          element.innerHTML = '';\n",
              "          dataTable['output_type'] = 'display_data';\n",
              "          await google.colab.output.renderOutput(dataTable, element);\n",
              "          const docLink = document.createElement('div');\n",
              "          docLink.innerHTML = docLinkHtml;\n",
              "          element.appendChild(docLink);\n",
              "        }\n",
              "      </script>\n",
              "    </div>\n",
              "  </div>\n",
              "  "
            ]
          },
          "metadata": {},
          "execution_count": 95
        }
      ]
    },
    {
      "cell_type": "code",
      "source": [
        "NER_entity= []\n",
        "for ent in doc.ents:\n",
        "  NER_entity.append([ent.text, ent.start_char, ent.end_char, ent.label_])\n",
        "NER_entity = pd.DataFrame(NER_entity,columns = ['TEXT',\t'start_char',\t'end_char','label_'])\n",
        "print(NER_entity.TEXT.unique(),NER_entity.label_.unique())"
      ],
      "metadata": {
        "colab": {
          "base_uri": "https://localhost:8080/"
        },
        "id": "pJn1B4WYHtWw",
        "outputId": "208498f3-f8e6-4e16-b71e-eb46181d1c42"
      },
      "execution_count": null,
      "outputs": [
        {
          "output_type": "stream",
          "name": "stdout",
          "text": [
            "['CTR' '5' '100' 'Ad Rank'] ['ORG' 'CARDINAL']\n"
          ]
        }
      ]
    },
    {
      "cell_type": "code",
      "source": [
        "##### Metric Areas covered\n",
        "\n",
        "#### Now we can compute the similarity and dissimilarity accross Entities + Sub-entities + Actions\n",
        "#### Considering 2 answers set (student (A) & reference (R)) [Use FastText + BERT embeddings for testing]\n",
        "     ####- Find the token missing in the A but in  R by -> All the tokens in R which are highly dissimilar to all the tokens in A\n",
        "     ####- Find the best matching pair tokens from A & R based on cossine similarity"
      ],
      "metadata": {
        "id": "Xxf5d10WCElo"
      },
      "execution_count": null,
      "outputs": []
    },
    {
      "cell_type": "markdown",
      "source": [
        "### Get data for Software Design from Geeks for Geeks Links "
      ],
      "metadata": {
        "id": "JjPYr2YAyYky"
      }
    },
    {
      "cell_type": "code",
      "source": [
        "!pip install requests\n",
        "!pip install html5lib\n",
        "!pip install bs4"
      ],
      "metadata": {
        "colab": {
          "base_uri": "https://localhost:8080/"
        },
        "id": "eowfhKkZyXJV",
        "outputId": "55329ca1-2b20-4131-f116-24f948b973e5"
      },
      "execution_count": null,
      "outputs": [
        {
          "output_type": "stream",
          "name": "stdout",
          "text": [
            "Looking in indexes: https://pypi.org/simple, https://us-python.pkg.dev/colab-wheels/public/simple/\n",
            "Requirement already satisfied: requests in /usr/local/lib/python3.7/dist-packages (2.23.0)\n",
            "Requirement already satisfied: certifi>=2017.4.17 in /usr/local/lib/python3.7/dist-packages (from requests) (2022.6.15)\n",
            "Requirement already satisfied: idna<3,>=2.5 in /usr/local/lib/python3.7/dist-packages (from requests) (2.10)\n",
            "Requirement already satisfied: chardet<4,>=3.0.2 in /usr/local/lib/python3.7/dist-packages (from requests) (3.0.4)\n",
            "Requirement already satisfied: urllib3!=1.25.0,!=1.25.1,<1.26,>=1.21.1 in /usr/local/lib/python3.7/dist-packages (from requests) (1.24.3)\n",
            "Looking in indexes: https://pypi.org/simple, https://us-python.pkg.dev/colab-wheels/public/simple/\n",
            "Requirement already satisfied: html5lib in /usr/local/lib/python3.7/dist-packages (1.0.1)\n",
            "Requirement already satisfied: six>=1.9 in /usr/local/lib/python3.7/dist-packages (from html5lib) (1.15.0)\n",
            "Requirement already satisfied: webencodings in /usr/local/lib/python3.7/dist-packages (from html5lib) (0.5.1)\n",
            "Looking in indexes: https://pypi.org/simple, https://us-python.pkg.dev/colab-wheels/public/simple/\n",
            "Requirement already satisfied: bs4 in /usr/local/lib/python3.7/dist-packages (0.0.1)\n",
            "Requirement already satisfied: beautifulsoup4 in /usr/local/lib/python3.7/dist-packages (from bs4) (4.6.3)\n"
          ]
        }
      ]
    },
    {
      "cell_type": "code",
      "source": [
        "scrape_df = pd.DataFrame(columns=['Host','Topic_Domain','Url'])\n",
        "scrape_df = scrape_df.append({'Host':'geeksforgeeks','Topic_Domain':'software design process','Url':\"https://www.geeksforgeeks.org/software-engineering-software-design-process/?ref=gcse\"},ignore_index= True)\n",
        "scrape_df = scrape_df.append({'Host':'geeksforgeeks','Topic_Domain':'system design concepts','Url':\"https://www.geeksforgeeks.org/5-common-system-design-concepts-for-interview-preparation/?ref=gcse\"},ignore_index= True)\n",
        "scrape_df = scrape_df.append({'Host':'geeksforgeeks','Topic_Domain':'basic system design concepts','Url':\"https://www.geeksforgeeks.org/getting-started-with-system-design/?ref=lbp\"},ignore_index= True)\n"
      ],
      "metadata": {
        "id": "z9nvjyWG07Cq"
      },
      "execution_count": null,
      "outputs": []
    },
    {
      "cell_type": "code",
      "source": [
        "import requests\n",
        "from bs4 import BeautifulSoup\n",
        "import re\n",
        "\n",
        "def get_headings(content,html_tags = ['h1','h2','h1','h3','h4','h5','h6','h7','strong']):\n",
        "  headings = []\n",
        "  for tag in html_tags:\n",
        "    for row in content.findAll(tag):\n",
        "      tag_content = match_html_tag(str(row),tag)\n",
        "      if (tag_content != None) :\n",
        "        sample_tag = tag_content[0][tag_content[0].find('>')+1:tag_content[0].find('</')]\n",
        "        if (len(sample_tag.split(' ')) <= 4): # Filter tags as the topics can only be 4 words long\n",
        "          headings.append(sample_tag)\n",
        "  return headings\n",
        "\n",
        "def match_html_tag(input,tag):\n",
        "    pattern = re.compile(r\"<\"+str(tag)+\"[a-zA-Z\\s=\\\"]*>(.*?)</\"+str(tag)+\">\", re.IGNORECASE)\n",
        "    return pattern.match(input)\n",
        "\n",
        "def get_some_entity_tags(content):\n",
        "  tags = []\n",
        "  for row in content.findAll('i'):\n",
        "    tag_content = match_html_tag(str(row),str('i'))\n",
        "    if (tag_content != None) :\n",
        "      sample_tag = tag_content[0][tag_content[0].find('>')+1:tag_content[0].find('</')]\n",
        "      if (len(sample_tag.split(' ')) <= 4): # Filter tags as the topics can only 4 words long\n",
        "        tags.append(sample_tag)\n",
        "\n",
        "  return tags\n",
        "\n",
        "def parse_text(html):\n",
        "  soup = BeautifulSoup(html, \"html.parser\")\n",
        "  for data in soup(['style', 'script']):\n",
        "      data.decompose()\n",
        "  return ' '.join(soup.stripped_strings)\n",
        "\n",
        "def get_page_text_content(content):\n",
        "  text_content = ''\n",
        "  for row in content.findAll('div',attrs={'class':'text'}):\n",
        "    text_content =  text_content +'.' + parse_text(str(row))\n",
        "  return text_content"
      ],
      "metadata": {
        "id": "ZzdESUkGyXMd"
      },
      "execution_count": null,
      "outputs": []
    },
    {
      "cell_type": "code",
      "source": [
        "scrape_df.head()"
      ],
      "metadata": {
        "colab": {
          "base_uri": "https://localhost:8080/",
          "height": 143
        },
        "id": "dK36C0a8_h_Y",
        "outputId": "d239195d-b4a2-40ec-e897-11e736ade437"
      },
      "execution_count": null,
      "outputs": [
        {
          "output_type": "execute_result",
          "data": {
            "text/plain": [
              "            Host                  Topic_Domain  \\\n",
              "0  geeksforgeeks       software design process   \n",
              "1  geeksforgeeks        system design concepts   \n",
              "2  geeksforgeeks  basic system design concepts   \n",
              "\n",
              "                                                 Url  \n",
              "0  https://www.geeksforgeeks.org/software-enginee...  \n",
              "1  https://www.geeksforgeeks.org/5-common-system-...  \n",
              "2  https://www.geeksforgeeks.org/getting-started-...  "
            ],
            "text/html": [
              "\n",
              "  <div id=\"df-0be7c3fb-5dd2-4451-a8bc-cce364cb1b64\">\n",
              "    <div class=\"colab-df-container\">\n",
              "      <div>\n",
              "<style scoped>\n",
              "    .dataframe tbody tr th:only-of-type {\n",
              "        vertical-align: middle;\n",
              "    }\n",
              "\n",
              "    .dataframe tbody tr th {\n",
              "        vertical-align: top;\n",
              "    }\n",
              "\n",
              "    .dataframe thead th {\n",
              "        text-align: right;\n",
              "    }\n",
              "</style>\n",
              "<table border=\"1\" class=\"dataframe\">\n",
              "  <thead>\n",
              "    <tr style=\"text-align: right;\">\n",
              "      <th></th>\n",
              "      <th>Host</th>\n",
              "      <th>Topic_Domain</th>\n",
              "      <th>Url</th>\n",
              "    </tr>\n",
              "  </thead>\n",
              "  <tbody>\n",
              "    <tr>\n",
              "      <th>0</th>\n",
              "      <td>geeksforgeeks</td>\n",
              "      <td>software design process</td>\n",
              "      <td>https://www.geeksforgeeks.org/software-enginee...</td>\n",
              "    </tr>\n",
              "    <tr>\n",
              "      <th>1</th>\n",
              "      <td>geeksforgeeks</td>\n",
              "      <td>system design concepts</td>\n",
              "      <td>https://www.geeksforgeeks.org/5-common-system-...</td>\n",
              "    </tr>\n",
              "    <tr>\n",
              "      <th>2</th>\n",
              "      <td>geeksforgeeks</td>\n",
              "      <td>basic system design concepts</td>\n",
              "      <td>https://www.geeksforgeeks.org/getting-started-...</td>\n",
              "    </tr>\n",
              "  </tbody>\n",
              "</table>\n",
              "</div>\n",
              "      <button class=\"colab-df-convert\" onclick=\"convertToInteractive('df-0be7c3fb-5dd2-4451-a8bc-cce364cb1b64')\"\n",
              "              title=\"Convert this dataframe to an interactive table.\"\n",
              "              style=\"display:none;\">\n",
              "        \n",
              "  <svg xmlns=\"http://www.w3.org/2000/svg\" height=\"24px\"viewBox=\"0 0 24 24\"\n",
              "       width=\"24px\">\n",
              "    <path d=\"M0 0h24v24H0V0z\" fill=\"none\"/>\n",
              "    <path d=\"M18.56 5.44l.94 2.06.94-2.06 2.06-.94-2.06-.94-.94-2.06-.94 2.06-2.06.94zm-11 1L8.5 8.5l.94-2.06 2.06-.94-2.06-.94L8.5 2.5l-.94 2.06-2.06.94zm10 10l.94 2.06.94-2.06 2.06-.94-2.06-.94-.94-2.06-.94 2.06-2.06.94z\"/><path d=\"M17.41 7.96l-1.37-1.37c-.4-.4-.92-.59-1.43-.59-.52 0-1.04.2-1.43.59L10.3 9.45l-7.72 7.72c-.78.78-.78 2.05 0 2.83L4 21.41c.39.39.9.59 1.41.59.51 0 1.02-.2 1.41-.59l7.78-7.78 2.81-2.81c.8-.78.8-2.07 0-2.86zM5.41 20L4 18.59l7.72-7.72 1.47 1.35L5.41 20z\"/>\n",
              "  </svg>\n",
              "      </button>\n",
              "      \n",
              "  <style>\n",
              "    .colab-df-container {\n",
              "      display:flex;\n",
              "      flex-wrap:wrap;\n",
              "      gap: 12px;\n",
              "    }\n",
              "\n",
              "    .colab-df-convert {\n",
              "      background-color: #E8F0FE;\n",
              "      border: none;\n",
              "      border-radius: 50%;\n",
              "      cursor: pointer;\n",
              "      display: none;\n",
              "      fill: #1967D2;\n",
              "      height: 32px;\n",
              "      padding: 0 0 0 0;\n",
              "      width: 32px;\n",
              "    }\n",
              "\n",
              "    .colab-df-convert:hover {\n",
              "      background-color: #E2EBFA;\n",
              "      box-shadow: 0px 1px 2px rgba(60, 64, 67, 0.3), 0px 1px 3px 1px rgba(60, 64, 67, 0.15);\n",
              "      fill: #174EA6;\n",
              "    }\n",
              "\n",
              "    [theme=dark] .colab-df-convert {\n",
              "      background-color: #3B4455;\n",
              "      fill: #D2E3FC;\n",
              "    }\n",
              "\n",
              "    [theme=dark] .colab-df-convert:hover {\n",
              "      background-color: #434B5C;\n",
              "      box-shadow: 0px 1px 3px 1px rgba(0, 0, 0, 0.15);\n",
              "      filter: drop-shadow(0px 1px 2px rgba(0, 0, 0, 0.3));\n",
              "      fill: #FFFFFF;\n",
              "    }\n",
              "  </style>\n",
              "\n",
              "      <script>\n",
              "        const buttonEl =\n",
              "          document.querySelector('#df-0be7c3fb-5dd2-4451-a8bc-cce364cb1b64 button.colab-df-convert');\n",
              "        buttonEl.style.display =\n",
              "          google.colab.kernel.accessAllowed ? 'block' : 'none';\n",
              "\n",
              "        async function convertToInteractive(key) {\n",
              "          const element = document.querySelector('#df-0be7c3fb-5dd2-4451-a8bc-cce364cb1b64');\n",
              "          const dataTable =\n",
              "            await google.colab.kernel.invokeFunction('convertToInteractive',\n",
              "                                                     [key], {});\n",
              "          if (!dataTable) return;\n",
              "\n",
              "          const docLinkHtml = 'Like what you see? Visit the ' +\n",
              "            '<a target=\"_blank\" href=https://colab.research.google.com/notebooks/data_table.ipynb>data table notebook</a>'\n",
              "            + ' to learn more about interactive tables.';\n",
              "          element.innerHTML = '';\n",
              "          dataTable['output_type'] = 'display_data';\n",
              "          await google.colab.output.renderOutput(dataTable, element);\n",
              "          const docLink = document.createElement('div');\n",
              "          docLink.innerHTML = docLinkHtml;\n",
              "          element.appendChild(docLink);\n",
              "        }\n",
              "      </script>\n",
              "    </div>\n",
              "  </div>\n",
              "  "
            ]
          },
          "metadata": {},
          "execution_count": 34
        }
      ]
    },
    {
      "cell_type": "code",
      "source": [
        "scrape_df['tags'] = None\n",
        "scrape_df['scraped_text'] = None\n",
        "\n",
        "for index in range(0,scrape_df.shape[0]):\n",
        "  URL = scrape_df.iloc[index,2]\n",
        "  r = requests.get(URL)\n",
        "  soup = BeautifulSoup(r.content,'html5lib')\n",
        "  html_article = soup.find('article')\n",
        "  tags = []\n",
        "  text = get_page_text_content(html_article)\n",
        "  scrape_df.iloc[index,4] = text\n",
        "  \n",
        "  tags.extend(get_headings(html_article))\n",
        "  tags.extend(get_some_entity_tags(html_article))\n",
        "  scrape_df.iloc[index,3] = str(tags)\n",
        "\n",
        "  print('******Complete Scraping******',index)\n",
        "\n",
        "\n"
      ],
      "metadata": {
        "id": "YhBHOYJ0AGv6",
        "colab": {
          "base_uri": "https://localhost:8080/"
        },
        "outputId": "a7275c73-0be1-4191-ba4f-f8eda66469d8"
      },
      "execution_count": null,
      "outputs": [
        {
          "output_type": "stream",
          "name": "stdout",
          "text": [
            "******Complete Scraping****** 0\n",
            "******Complete Scraping****** 1\n",
            "******Complete Scraping****** 2\n"
          ]
        }
      ]
    },
    {
      "cell_type": "code",
      "source": [
        ""
      ],
      "metadata": {
        "id": "2pkTTJlyO08E"
      },
      "execution_count": null,
      "outputs": []
    },
    {
      "cell_type": "markdown",
      "source": [
        "### Get Data from books"
      ],
      "metadata": {
        "id": "Tk-EwUQL5o5S"
      }
    },
    {
      "cell_type": "code",
      "source": [
        "!pip install PyPDF2"
      ],
      "metadata": {
        "colab": {
          "base_uri": "https://localhost:8080/"
        },
        "id": "cSidnX0QmCk7",
        "outputId": "7a81b191-adc5-4d05-b676-a7ca29c8f0ad"
      },
      "execution_count": null,
      "outputs": [
        {
          "output_type": "stream",
          "name": "stdout",
          "text": [
            "Looking in indexes: https://pypi.org/simple, https://us-python.pkg.dev/colab-wheels/public/simple/\n",
            "Collecting PyPDF2\n",
            "  Downloading PyPDF2-2.4.2-py3-none-any.whl (199 kB)\n",
            "\u001b[K     |████████████████████████████████| 199 kB 4.1 MB/s \n",
            "\u001b[?25hRequirement already satisfied: typing-extensions in /usr/local/lib/python3.7/dist-packages (from PyPDF2) (4.1.1)\n",
            "Installing collected packages: PyPDF2\n",
            "Successfully installed PyPDF2-2.4.2\n"
          ]
        }
      ]
    },
    {
      "cell_type": "code",
      "source": [
        "import PyPDF2\n",
        "\n",
        "def filter_line(line_content):\n",
        "  line_content = re.sub(\"[^A-Za-z\\s]\",\" \",line_content)\n",
        "  line_content = re.sub(' +', ' ', line_content)\n",
        "  if (line_content != '')&(len(line_content) > 20):\n",
        "    return line_content\n",
        "\n",
        "def generate_dataset_from_book(path = '/Corman.pdf'):\n",
        "  book_dataset = pd.DataFrame(columns=['Page','Chapter','Text Extracted'])\n",
        "  pdffileobj=open(path,'rb')\n",
        "  pdfreader=PyPDF2.PdfFileReader(pdffileobj)\n",
        "  chapter_topic = None\n",
        "  for page_index in range(0,pdfreader.numPages):\n",
        "    pageobj=pdfreader.getPage(page_index)\n",
        "    text=pageobj.extractText()\n",
        "    if text.split('\\n')[0].find('Chapter') > 0:\n",
        "      chapter_topic = text.split('\\n')[0]\n",
        "    text_lines = list(filter(lambda x:filter_line(x), text.split('\\n')))\n",
        "    for line_index in range(0,len(text_lines)):\n",
        "      book_dataset = book_dataset.append({'Page':page_index,'Chapter':chapter_topic,'Text Extracted':text_lines[line_index]},ignore_index=True)\n",
        "  return book_dataset\n"
      ],
      "metadata": {
        "id": "ABdqMcJ_70iZ"
      },
      "execution_count": null,
      "outputs": []
    },
    {
      "cell_type": "code",
      "source": [
        "corman_dataset = generate_dataset_from_book('/content/Corman.pdf')\n",
        "corman_dataset.shape"
      ],
      "metadata": {
        "colab": {
          "base_uri": "https://localhost:8080/"
        },
        "id": "Ht1vTsNd9K29",
        "outputId": "2f4baafb-cd57-475f-a1ea-f0d952c5eb95"
      },
      "execution_count": null,
      "outputs": [
        {
          "output_type": "execute_result",
          "data": {
            "text/plain": [
              "(34832, 3)"
            ]
          },
          "metadata": {},
          "execution_count": 11
        }
      ]
    },
    {
      "cell_type": "code",
      "source": [
        "corman_dataset.to_csv('/content/Algo_Corman_extracted_txt.csv',index= False)"
      ],
      "metadata": {
        "id": "-WA7oLvFBY8N"
      },
      "execution_count": null,
      "outputs": []
    },
    {
      "cell_type": "code",
      "source": [
        "corman_dataset.tail()"
      ],
      "metadata": {
        "colab": {
          "base_uri": "https://localhost:8080/",
          "height": 206
        },
        "id": "XMQE4_kxLzJd",
        "outputId": "bdf60dd2-e61f-452d-ea5b-320a00b98e0b"
      },
      "execution_count": null,
      "outputs": [
        {
          "output_type": "execute_result",
          "data": {
            "text/plain": [
              "       Page                                   Chapter  \\\n",
              "34827  1312  1140 Chapter 35 Approximation Algorithms   \n",
              "34828  1312  1140 Chapter 35 Approximation Algorithms   \n",
              "34829  1312  1140 Chapter 35 Approximation Algorithms   \n",
              "34830  1312  1140 Chapter 35 Approximation Algorithms   \n",
              "34831  1312  1140 Chapter 35 Approximation Algorithms   \n",
              "\n",
              "                                      Text Extracted  \n",
              "34827              (elements of multiplicative group  \n",
              "34828                          (nonzero elements ofZ  \n",
              "34829   zero of a polynomial modulo a prime, 950 ex.  \n",
              "34830        0-1 integer programming, 1100 ex., 1125  \n",
              "34831  0-1 knapsack problem, 425, 427 ex., 1137 pr.,  "
            ],
            "text/html": [
              "\n",
              "  <div id=\"df-37d423f0-88f3-4bf0-8892-f0ce0cfd5135\">\n",
              "    <div class=\"colab-df-container\">\n",
              "      <div>\n",
              "<style scoped>\n",
              "    .dataframe tbody tr th:only-of-type {\n",
              "        vertical-align: middle;\n",
              "    }\n",
              "\n",
              "    .dataframe tbody tr th {\n",
              "        vertical-align: top;\n",
              "    }\n",
              "\n",
              "    .dataframe thead th {\n",
              "        text-align: right;\n",
              "    }\n",
              "</style>\n",
              "<table border=\"1\" class=\"dataframe\">\n",
              "  <thead>\n",
              "    <tr style=\"text-align: right;\">\n",
              "      <th></th>\n",
              "      <th>Page</th>\n",
              "      <th>Chapter</th>\n",
              "      <th>Text Extracted</th>\n",
              "    </tr>\n",
              "  </thead>\n",
              "  <tbody>\n",
              "    <tr>\n",
              "      <th>34827</th>\n",
              "      <td>1312</td>\n",
              "      <td>1140 Chapter 35 Approximation Algorithms</td>\n",
              "      <td>(elements of multiplicative group</td>\n",
              "    </tr>\n",
              "    <tr>\n",
              "      <th>34828</th>\n",
              "      <td>1312</td>\n",
              "      <td>1140 Chapter 35 Approximation Algorithms</td>\n",
              "      <td>(nonzero elements ofZ</td>\n",
              "    </tr>\n",
              "    <tr>\n",
              "      <th>34829</th>\n",
              "      <td>1312</td>\n",
              "      <td>1140 Chapter 35 Approximation Algorithms</td>\n",
              "      <td>zero of a polynomial modulo a prime, 950 ex.</td>\n",
              "    </tr>\n",
              "    <tr>\n",
              "      <th>34830</th>\n",
              "      <td>1312</td>\n",
              "      <td>1140 Chapter 35 Approximation Algorithms</td>\n",
              "      <td>0-1 integer programming, 1100 ex., 1125</td>\n",
              "    </tr>\n",
              "    <tr>\n",
              "      <th>34831</th>\n",
              "      <td>1312</td>\n",
              "      <td>1140 Chapter 35 Approximation Algorithms</td>\n",
              "      <td>0-1 knapsack problem, 425, 427 ex., 1137 pr.,</td>\n",
              "    </tr>\n",
              "  </tbody>\n",
              "</table>\n",
              "</div>\n",
              "      <button class=\"colab-df-convert\" onclick=\"convertToInteractive('df-37d423f0-88f3-4bf0-8892-f0ce0cfd5135')\"\n",
              "              title=\"Convert this dataframe to an interactive table.\"\n",
              "              style=\"display:none;\">\n",
              "        \n",
              "  <svg xmlns=\"http://www.w3.org/2000/svg\" height=\"24px\"viewBox=\"0 0 24 24\"\n",
              "       width=\"24px\">\n",
              "    <path d=\"M0 0h24v24H0V0z\" fill=\"none\"/>\n",
              "    <path d=\"M18.56 5.44l.94 2.06.94-2.06 2.06-.94-2.06-.94-.94-2.06-.94 2.06-2.06.94zm-11 1L8.5 8.5l.94-2.06 2.06-.94-2.06-.94L8.5 2.5l-.94 2.06-2.06.94zm10 10l.94 2.06.94-2.06 2.06-.94-2.06-.94-.94-2.06-.94 2.06-2.06.94z\"/><path d=\"M17.41 7.96l-1.37-1.37c-.4-.4-.92-.59-1.43-.59-.52 0-1.04.2-1.43.59L10.3 9.45l-7.72 7.72c-.78.78-.78 2.05 0 2.83L4 21.41c.39.39.9.59 1.41.59.51 0 1.02-.2 1.41-.59l7.78-7.78 2.81-2.81c.8-.78.8-2.07 0-2.86zM5.41 20L4 18.59l7.72-7.72 1.47 1.35L5.41 20z\"/>\n",
              "  </svg>\n",
              "      </button>\n",
              "      \n",
              "  <style>\n",
              "    .colab-df-container {\n",
              "      display:flex;\n",
              "      flex-wrap:wrap;\n",
              "      gap: 12px;\n",
              "    }\n",
              "\n",
              "    .colab-df-convert {\n",
              "      background-color: #E8F0FE;\n",
              "      border: none;\n",
              "      border-radius: 50%;\n",
              "      cursor: pointer;\n",
              "      display: none;\n",
              "      fill: #1967D2;\n",
              "      height: 32px;\n",
              "      padding: 0 0 0 0;\n",
              "      width: 32px;\n",
              "    }\n",
              "\n",
              "    .colab-df-convert:hover {\n",
              "      background-color: #E2EBFA;\n",
              "      box-shadow: 0px 1px 2px rgba(60, 64, 67, 0.3), 0px 1px 3px 1px rgba(60, 64, 67, 0.15);\n",
              "      fill: #174EA6;\n",
              "    }\n",
              "\n",
              "    [theme=dark] .colab-df-convert {\n",
              "      background-color: #3B4455;\n",
              "      fill: #D2E3FC;\n",
              "    }\n",
              "\n",
              "    [theme=dark] .colab-df-convert:hover {\n",
              "      background-color: #434B5C;\n",
              "      box-shadow: 0px 1px 3px 1px rgba(0, 0, 0, 0.15);\n",
              "      filter: drop-shadow(0px 1px 2px rgba(0, 0, 0, 0.3));\n",
              "      fill: #FFFFFF;\n",
              "    }\n",
              "  </style>\n",
              "\n",
              "      <script>\n",
              "        const buttonEl =\n",
              "          document.querySelector('#df-37d423f0-88f3-4bf0-8892-f0ce0cfd5135 button.colab-df-convert');\n",
              "        buttonEl.style.display =\n",
              "          google.colab.kernel.accessAllowed ? 'block' : 'none';\n",
              "\n",
              "        async function convertToInteractive(key) {\n",
              "          const element = document.querySelector('#df-37d423f0-88f3-4bf0-8892-f0ce0cfd5135');\n",
              "          const dataTable =\n",
              "            await google.colab.kernel.invokeFunction('convertToInteractive',\n",
              "                                                     [key], {});\n",
              "          if (!dataTable) return;\n",
              "\n",
              "          const docLinkHtml = 'Like what you see? Visit the ' +\n",
              "            '<a target=\"_blank\" href=https://colab.research.google.com/notebooks/data_table.ipynb>data table notebook</a>'\n",
              "            + ' to learn more about interactive tables.';\n",
              "          element.innerHTML = '';\n",
              "          dataTable['output_type'] = 'display_data';\n",
              "          await google.colab.output.renderOutput(dataTable, element);\n",
              "          const docLink = document.createElement('div');\n",
              "          docLink.innerHTML = docLinkHtml;\n",
              "          element.appendChild(docLink);\n",
              "        }\n",
              "      </script>\n",
              "    </div>\n",
              "  </div>\n",
              "  "
            ]
          },
          "metadata": {},
          "execution_count": 102
        }
      ]
    },
    {
      "cell_type": "markdown",
      "source": [
        "### Latent Semantic Analysis\n",
        "\n",
        "> Given text content (refer- Document) from different chapters of Algorithms(Coreman) trying to find the latent separability based on hidden topics\n",
        "\n"
      ],
      "metadata": {
        "id": "WIGt_2z_FH1W"
      }
    },
    {
      "cell_type": "code",
      "source": [
        "import nltk\n",
        "nltk.download('stopwords')\n",
        "nltk.download('punkt')"
      ],
      "metadata": {
        "colab": {
          "base_uri": "https://localhost:8080/"
        },
        "id": "455BWuJ-FHFZ",
        "outputId": "9b48ade0-d45e-44cc-e062-1e8f688d5746"
      },
      "execution_count": null,
      "outputs": [
        {
          "output_type": "stream",
          "name": "stderr",
          "text": [
            "[nltk_data] Downloading package stopwords to /root/nltk_data...\n",
            "[nltk_data]   Package stopwords is already up-to-date!\n",
            "[nltk_data] Downloading package punkt to /root/nltk_data...\n",
            "[nltk_data]   Unzipping tokenizers/punkt.zip.\n"
          ]
        },
        {
          "output_type": "execute_result",
          "data": {
            "text/plain": [
              "True"
            ]
          },
          "metadata": {},
          "execution_count": 41
        }
      ]
    },
    {
      "cell_type": "code",
      "source": [
        "import re\n",
        "import numpy as np\n",
        "import pandas as pd\n",
        "from scipy import linalg, spatial\n",
        "from sklearn.cluster import KMeans\n",
        "from sklearn.decomposition import PCA, SparsePCA, TruncatedSVD\n",
        "from sklearn.feature_extraction.text import (CountVectorizer, TfidfTransformer, TfidfVectorizer)\n",
        "from sklearn.cluster import KMeans\n",
        "from sklearn.utils.extmath import randomized_svd\n",
        "from nltk.tokenize import word_tokenize\n",
        "from nltk.corpus import stopwords\n"
      ],
      "metadata": {
        "id": "G2KEh2jwFHIx"
      },
      "execution_count": null,
      "outputs": []
    },
    {
      "cell_type": "code",
      "source": [
        "# # np.unique(corman_dataset[~corman_dataset.Chapter.isna()]['Chapter'])\n",
        "\n",
        "Chapter_Selected = {\n",
        "    0: 'Dynamic Programming',\n",
        "    1: 'Greedy Algorithms',\n",
        "    2: 'Trees',\n",
        "    3: 'Divide-and-Conquer',\n",
        "    4: 'NP-Completeness'\n",
        "}\n",
        "corpus = []\n",
        "for key in Chapter_Selected.keys():\n",
        "  chapter = Chapter_Selected[key]\n",
        "  chapter_text = '.'.join(list(corman_dataset[corman_dataset['Chapter'].str.contains(chapter)]['Text Extracted']))\n",
        "  corpus.append(chapter_text)\n",
        "\n",
        "print('Corpus Length',len(corpus))\n"
      ],
      "metadata": {
        "colab": {
          "base_uri": "https://localhost:8080/"
        },
        "id": "wJThO3-vJzaU",
        "outputId": "1352abcb-2071-40a4-eda2-a57bad9ca1c9"
      },
      "execution_count": null,
      "outputs": [
        {
          "output_type": "stream",
          "name": "stdout",
          "text": [
            "Corpus Length 5\n"
          ]
        }
      ]
    },
    {
      "cell_type": "code",
      "source": [
        "stop_words = set(stopwords.words('english'))"
      ],
      "metadata": {
        "id": "GoPg_FV7MbK7"
      },
      "execution_count": null,
      "outputs": []
    },
    {
      "cell_type": "code",
      "source": [
        "filtered_document= []\n",
        "filtered_text = []\n",
        "\n",
        "for document in corpus:\n",
        "    \n",
        "    clean_document = \" \".join(re.sub(r\"[^A-Za-z \\—]+\", \" \", document).split())\n",
        "    \n",
        "    document_tokens = word_tokenize(clean_document)\n",
        "\n",
        "    for word in document_tokens:\n",
        "        if word not in stop_words:\n",
        "            filtered_document.append(word)\n",
        "\n",
        "    filtered_text.append(' '.join(filtered_document))"
      ],
      "metadata": {
        "id": "HU-K_OHbOGfd"
      },
      "execution_count": null,
      "outputs": []
    },
    {
      "cell_type": "code",
      "source": [
        "vectorizer = CountVectorizer()\n",
        "\n",
        "counts_matrix = vectorizer.fit_transform(filtered_text)\n",
        "\n",
        "feature_names = vectorizer.get_feature_names()\n",
        "\n",
        "count_matrix_df = pd.DataFrame(counts_matrix.toarray(), columns=feature_names)\n",
        "count_matrix_df.index = ['Document 1','Document 2','Document 3','Document 4','Document 5']\n",
        "\n",
        "print(\"Word frequency matrix: \\n\", count_matrix_df)"
      ],
      "metadata": {
        "colab": {
          "base_uri": "https://localhost:8080/"
        },
        "id": "XSP9H54hHsNl",
        "outputId": "e853a31a-043e-43db-9d23-275599fce757"
      },
      "execution_count": null,
      "outputs": [
        {
          "output_type": "stream",
          "name": "stdout",
          "text": [
            "Word frequency matrix: \n",
            "             aa  aand  aandbare  aanextensionofa  ab  abil  ability  \\\n",
            "Document 1   0     0         0                0   0     0        0   \n",
            "Document 2   0     0         1                1   0     0        1   \n",
            "Document 3   2     1         1                1   2     0        3   \n",
            "Document 4   2     1         1                1   2     0        3   \n",
            "Document 5   2     1         1                1   2     1       40   \n",
            "\n",
            "            abilityproblem  abinary  able  ...  yields  yis  ylies  you  \\\n",
            "Document 1               0        0     1  ...       5    0      0   16   \n",
            "Document 2               0        1     3  ...      16    0      0   19   \n",
            "Document 3               0        1     3  ...      18    0      1   25   \n",
            "Document 4               0        1     7  ...      26    0      1   36   \n",
            "Document 5               1        1    49  ...      29    1      1   42   \n",
            "\n",
            "            youare  young  your  yzpxmg  zdhb  zero  \n",
            "Document 1       1      0     2       0     1     1  \n",
            "Document 2       1      0     2       0     1     1  \n",
            "Document 3       1      0     2       2     1     1  \n",
            "Document 4       1      0     5       2     1     1  \n",
            "Document 5       1      1     5       2     1     1  \n",
            "\n",
            "[5 rows x 7331 columns]\n"
          ]
        },
        {
          "output_type": "stream",
          "name": "stderr",
          "text": [
            "/usr/local/lib/python3.7/dist-packages/sklearn/utils/deprecation.py:87: FutureWarning: Function get_feature_names is deprecated; get_feature_names is deprecated in 1.0 and will be removed in 1.2. Please use get_feature_names_out instead.\n",
            "  warnings.warn(msg, category=FutureWarning)\n"
          ]
        }
      ]
    },
    {
      "cell_type": "code",
      "source": [
        "vectorizer = TfidfVectorizer(stop_words=stop_words,max_features=10000, max_df = 0.5,\n",
        "                                    use_idf = True,\n",
        "                                    ngram_range=(1,3))\n",
        "\n",
        "X = vectorizer.fit_transform(filtered_text)\n",
        "print(X.shape)\n",
        "print(feature_names)\n",
        "\n",
        "num_clusters = 3\n",
        "\n",
        "km = KMeans(n_clusters=num_clusters)\n",
        "km.fit(X)\n",
        "    \n",
        "clusters = km.labels_.tolist()\n",
        "print(clusters)"
      ],
      "metadata": {
        "colab": {
          "base_uri": "https://localhost:8080/"
        },
        "id": "MQeT6uV0HsbE",
        "outputId": "3f29174d-de16-43c7-afb5-fafcd85c071c"
      },
      "execution_count": null,
      "outputs": [
        {
          "output_type": "stream",
          "name": "stdout",
          "text": [
            "(5, 10000)\n",
            "['aa', 'aand', 'aandbare', 'aanextensionofa', 'ab', 'abil', 'ability', 'abilityproblem', 'abinary', 'able', 'ableformula', 'ableif', 'ableswhosevaluesare', 'aboolean', 'abottleneck', 'above', 'absent', 'absolutely', 'absorb', 'absorbed', 'abstract', 'abstracts', 'abuse', 'ac', 'accept', 'acceptable', 'accepted', 'acceptedx', 'accepting', 'accepts', 'acceptsl', 'acceptsxby', 'access', 'accessed', 'accesses', 'accesseso', 'accessing', 'accomplish', 'accomplished', 'accomplishes', 'according', 'account', 'accounting', 'accu', 'accumulate', 'accumulated', 'accumulating', 'accurate', 'acerti', 'achicoulis', 'achieve', 'achieves', 'achieving', 'achoicethat', 'acircuit', 'acker', 'ackermann', 'acliquein', 'acme', 'acolorattributec', 'acommon', 'acomplexity', 'acon', 'aconcrete', 'acontainsjvj', 'across', 'act', 'acter', 'acters', 'actersa', 'acting', 'action', 'activ', 'activi', 'activities', 'activitiess', 'activity', 'activitya', 'acts', 'actu', 'actual', 'actually', 'actuallyn', 'acut', 'acyclic', 'ad', 'adapted', 'adaptive', 'adb', 'add', 'added', 'adding', 'addingxtoa', 'addition', 'additional', 'additionally', 'additions', 'additive', 'address', 'addressableb', 'addresses', 'addressing', 'adds', 'addsxtoa', 'addxtoawhile', 'adenine', 'adf', 'adisjoint', 'adj', 'adjacency', 'adjacent', 'adjusting', 'adjusts', 'adjustsxso', 'adjustx', 'adopt', 'advantage', 'ae', 'af', 'affect', 'affected', 'affects', 'after', 'aftera', 'aftern', 'afterward', 'afteryinx', 'afullbinary', 'afullchild', 'again', 'agent', 'aggregate', 'agis', 'agree', 'agx', 'ahamiltonian', 'ahead', 'aheadat', 'aho', 'ahuffman', 'ai', 'aided', 'aiding', 'aiis', 'aiming', 'aiofxandy', 'ais', 'ajvj', 'ake', 'akey', 'akeyattribute', 'akn', 'akra', 'al', 'alan', 'alanguagelover', 'alberto', 'algebra', 'algebraic', 'algebraically', 'algo', 'algorithm', 'algorithma', 'algorithmaacceptsxin', 'algorithmaand', 'algorithmaas', 'algorithmaif', 'algorithmais', 'algorithmand', 'algorithmaoccu', 'algorithmaon', 'algorithmarejectsa', 'algorithmarunning', 'algorithmaruns', 'algorithmas', 'algorithmathat', 'algorithmato', 'algorithmaveri', 'algorithmf', 'algorithmfcan', 'algorithmfconstructs', 'algorithmfin', 'algorithmfis', 'algorithmfmodi', 'algorithmfmust', 'algorithmfthat', 'algorithmg', 'algorithminstance', 'algorithms', 'alight', 'aligning', 'alignment', 'aliteralin', 'all', 'alli', 'allid', 'alljd', 'allk', 'allkd', 'allkleast', 'alll', 'allm', 'alln', 'allnlog', 'allntime', 'allocate', 'allocated', 'allocates', 'allow', 'allowed', 'allowing', 'allows', 'allowuto', 'alls', 'allu', 'ally', 'almost', 'alone', 'along', 'alongest', 'alongestcommon', 'alphabet', 'alphabetc', 'alphabetcwith', 'already', 'also', 'alter', 'alterna', 'alternate', 'alternates', 'alternative', 'alternatively', 'alters', 'although', 'altogether', 'always', 'amalgamated', 'amatroidis', 'amazing', 'ambiguities', 'amergeable', 'aminimum', 'among', 'amonge', 'amongj', 'amongnchips', 'amortize', 'amortized', 'amount', 'amounts', 'ample', 'amused', 'amust', 'an', 'anabstract', 'analogous', 'analogously', 'analogy', 'analy', 'analyses', 'analysis', 'analyze', 'analyzed', 'analyzes', 'analyzing', 'anamortized', 'anapolis', 'anarm', 'ancestor', 'and', 'anda', 'andanelementxsuch', 'andanindexisuch', 'andasatisfying', 'andb', 'andbare', 'andbcontains', 'andbd', 'andbis', 'andc', 'andcas', 'andcbe', 'andcchange', 'andcinto', 'andcolumnsare', 'andd', 'anddas', 'andemoves', 'andend', 'andf', 'andfalseifxis', 'andhigh', 'andi', 'andifaf', 'andj', 'andjaj', 'andjdjc', 'andjej', 'andk', 'andlet', 'andletabe', 'andletb', 'andletcd', 'andlete', 'andletlbe', 'andlett', 'andletv', 'andlsuch', 'andm', 'andn', 'andnd', 'andnis', 'ando', 'andp', 'andq', 'andqis', 'andris', 'androot', 'ands', 'andso', 'andsum', 'andsummary', 'andt', 'andtd', 'andthe', 'andthen', 'andtheor', 'andtis', 'andtoa', 'andu', 'anduas', 'andutheuniverse', 'andv', 'andw', 'andwesetyto', 'andwhenp', 'andwis', 'andx', 'andxequals', 'andxhas', 'andxis', 'andy', 'andyand', 'andyas', 'andyd', 'andyisx', 'andynow', 'andywill', 'andywith', 'anencodingof', 'angle', 'aninstanceof', 'anm', 'ann', 'ano', 'anonfullinternal', 'anoninstanceof', 'anoptimal', 'anoptimalsubset', 'another', 'answer', 'answerr', 'answers', 'antagonist', 'anundirected', 'any', 'anya', 'anyi', 'anykd', 'anyl', 'anyn', 'anyone', 'anyway', 'anyy', 'aoutputs', 'ap', 'apc', 'appealing', 'appear', 'appeared', 'appearing', 'appears', 'appendingx', 'appendix', 'appendx', 'applica', 'applicability', 'application', 'applications', 'applied', 'applies', 'apply', 'applying', 'approach', 'approaches', 'appropriate', 'appropriately', 'appropriateproto', 'approxi', 'approximately', 'approximation', 'aproto', 'aq', 'ar', 'aragon', 'arbitrarily', 'arbitrary', 'arbitraryn', 'architecture', 'area', 'areaj', 'areb', 'arecompatible', 'areconsistent', 'arecursion', 'areduction', 'arelaxed', 'arenotin', 'areo', 'areoptimization', 'arepolynomially', 'arepresentative', 'areselector', 'arev', 'arexd', 'argu', 'argue', 'argued', 'arguing', 'argument', 'argumentn', 'arguments', 'arise', 'arises', 'arising', 'arith', 'arithmetic', 'arm', 'arms', 'around', 'arrange', 'array', 'arraya', 'arrayaand', 'arrayathat', 'arrayato', 'arraycluster', 'arrayclustercontainsp', 'arrayif', 'arrayl', 'arrayp', 'arrayr', 'arrays', 'arraysummary', 'arraysummarycontains', 'arrive', 'arrived', 'arrow', 'arrows', 'article', 'ary', 'as', 'asa', 'asafe', 'asatis', 'asatisfying', 'asc', 'ascending', 'ascii', 'asd', 'asecond', 'asf', 'ashortest', 'aside', 'ask', 'asked', 'asks', 'aslogic', 'asmachicolationappears', 'asn', 'asnd', 'aso', 'asp', 'aspanning', 'aspects', 'asproto', 'assemble', 'assertion', 'assessing', 'assign', 'assigna', 'assigned', 'assigning', 'assignment', 'assignmentfor', 'assignmenthx', 'assignmentis', 'assignments', 'assignmentx', 'assigns', 'assignx', 'associate', 'associated', 'associates', 'associating', 'associative', 'associativity', 'assume', 'assumed', 'assumes', 'assuming', 'assumption', 'assumptions', 'assumptiont', 'assured', 'ast', 'asthe', 'asthemay', 'asthenclause', 'astounding', 'asubsequenceofxif', 'asunionandintersection', 'aswehave', 'asx', 'asxand', 'asymmetry', 'asymp', 'asymptotic', 'asymptotically', 'asz', 'at', 'atb', 'ate', 'atime', 'ations', 'atour', 'atr', 'atrack', 'atras', 'atrix', 'atruth', 'attempt', 'attend', 'attendees', 'attention', 'atthat', 'attributable', 'attribute', 'attributec', 'attributento', 'attributerows', 'attributes', 'attributesminandmax', 'attributesrows', 'attributesummarypoints', 'attributet', 'attributeugiving', 'attributex', 'atx', 'atxas', 'atxisx', 'atxresides', 'aty', 'augment', 'augmented', 'augmenting', 'aunit', 'automat', 'automata', 'automatically', 'aux', 'auxiliary', 'auxis', 'available', 'avariable', 'average', 'averi', 'avertex', 'avoid', 'aw', 'aware', 'away', 'awhileloop', 'awidget', 'aximum', 'aximumand', 'axis', 'back', 'backing', 'backward', 'bag', 'bailey', 'balance', 'balanced', 'bank', 'barely', 'baron', 'base', 'baseb', 'baseball', 'based', 'bases', 'basic', 'basis', 'bat', 'bayer', 'bazzi', 'bc', 'bcb', 'bcontains', 'bcontainsjvj', 'bcordn', 'bd', 'be', 'beanewarray', 'bear', 'beat', 'beats', 'beautiful', 'bebinarystrings', 'because', 'becauseaac', 'becauseais', 'becausebis', 'becausegis', 'becausem', 'becausen', 'becausev', 'becausex', 'becausexhas', 'becausexis', 'becauseytakes', 'become', 'becomel', 'becomes', 'becomest', 'becomesy', 'becoming', 'bee', 'beenmemoized', 'before', 'beforea', 'beforec', 'beforefis', 'beforesolving', 'began', 'begin', 'beginning', 'begins', 'begun', 'behamiltonian', 'behavior', 'behind', 'beingnp', 'beingr', 'believe', 'believing', 'bellman', 'belong', 'belongs', 'bem', 'benchmarking', 'bender', 'beneath', 'bentley', 'beo', 'beq', 'ber', 'beright', 'besides', 'besidesa', 'best', 'bet', 'better', 'betweena', 'betweenbn', 'betweenk', 'betweentandt', 'betweenuand', 'beuor', 'bex', 'beyond', 'bh', 'bhas', 'bi', 'biandydhb', 'big', 'biggest', 'biis', 'billion', 'bin', 'binary', 'binaryinputx', 'binaryoutput', 'binational', 'bining', 'biological', 'biology', 'bipartite', 'bit', 'bita', 'bits', 'bitsiandjof', 'biwith', 'bj', 'black', 'blackandw', 'blackness', 'blacks', 'blog', 'bly', 'bmight', 'bn', 'bnc', 'boas', 'body', 'bonacci', 'bonnie', 'bonus', 'book', 'bookkeeping', 'boolean', 'bor', 'borden', 'border', 'bot', 'both', 'botha', 'bothcandk', 'bothering', 'bothfanda', 'bothi', 'bothiandj', 'bothiandjto', 'bothiandjvaried', 'bothkand', 'bothminandmax', 'bothminandmaxare', 'bothnil', 'bothp', 'bothuand', 'bothx', 'bothxandw', 'bothxandx', 'bothxandy', 'bothyand', 'bottleneck', 'bottom', 'bound', 'boundary', 'boundbn', 'bounddn', 'bounded', 'boundf', 'bounding', 'bounds', 'boundt', 'box', 'braces', 'brackets', 'branches', 'branching', 'brand', 'brassard', 'bratley', 'breadth', 'break', 'breaking', 'breaks', 'breakstinto', 'bridge', 'brie', 'brief', 'brown', 'brute', 'bst', 'bthe', 'bto', 'build', 'building', 'builds', 'built', 'bunyan', 'bushy', 'but', 'butjbj', 'butleavingxasy', 'butnone', 'buttis', 'buy', 'buying', 'buys', 'bx', 'by', 'bya', 'byaand', 'byaare', 'byais', 'byc', 'bycandc', 'byd', 'byl', 'bymin', 'byn', 'byp', 'bypass', 'bypassed', 'bypassing', 'bys', 'bysubtractinga', 'byt', 'bytes', 'byv', 'byw', 'bywires', 'byx', 'byxby', 'byxhas', 'byxresides', 'byy', 'byyand', 'ca', 'caches', 'caesar', 'calculate', 'calculation', 'calculations', 'call', 'called', 'calledpre', 'calling', 'callpandq', 'calls', 'cally', 'came', 'can', 'cancel', 'cand', 'canddn', 'candi', 'candidate', 'canonical', 'cant', 'cantb', 'cantd', 'cantkdigits', 'cantly', 'cantndigits', 'capacities', 'capacity', 'caption', 'capture', 'capulet', 'care', 'careful', 'carefully', 'carried', 'carries', 'carry', 'case', 'cases', 'caset', 'cast', 'casting', 'castle', 'catalog', 'catalogue', 'cate', 'categorize', 'catey', 'cateyiso', 'cateyof', 'cateysuch', 'cateythatacan', 'cateywithjyjdo', 'cation', 'cause', 'causes', 'causesato', 'causesx', 'causing', 'caxcbd', 'cbits', 'cbn', 'cc', 'cccd', 'ccd', 'ccdcdt', 'ccn', 'ccount', 'cd', 'cdf', 'cdn', 'ce', 'ced', 'cedure', 'ceiling', 'ceilings', 'centers', 'central', 'ception', 'certain', 'certainly', 'certainty', 'certi', 'ces', 'cess', 'cessinggto', 'cessor', 'cf', 'cfor', 'chain', 'chaina', 'chainexecutes', 'chainha', 'chaininto', 'chainmakes', 'chainprocedure', 'chainruns', 'chains', 'chainsaves', 'chainsimply', 'chainto', 'chainwith', 'challenge', 'chang', 'change', 'changed', 'changes', 'changextoy', 'changing', 'chapter', 'chapters', 'char', 'charac', 'character', 'characteraoccurs', 'characterc', 'charactercin', 'charactercinto', 'characteristic', 'characteristics', 'characterizations', 'characterize', 'characterized', 'characterizes', 'characterizing', 'characters', 'charactersxandyappear', 'charactersxandyremoved', 'charged', 'charges', 'chart', 'chas', 'chazelle', 'cheaper', 'check', 'checking', 'checks', 'chemical', 'chemicals', 'chemistry', 'child', 'childas', 'childis', 'childland', 'childlbut', 'childr', 'children', 'childtakes', 'childto', 'childw', 'childworks', 'childx', 'childxreplacesyin', 'childyis', 'childythat', 'chip', 'chips', 'cho', 'choice', 'choices', 'choos', 'choose', 'chooses', 'choosetso', 'choosing', 'choosingclarge', 'chose', 'chosen', 'chosenr', 'ci', 'cial', 'cided', 'ciency', 'cient', 'cientc', 'ciently', 'cients', 'cir', 'circles', 'circuit', 'circuitc', 'circuitcand', 'circuitcconsists', 'circuitcdf', 'circuitcinto', 'circuitcis', 'circuitconsists', 'circuitcsatis', 'circuitg', 'circuitm', 'circuitmimplementing', 'circuitmmaps', 'circuitry', 'circuits', 'circumstances', 'cis', 'cise', 'cision', 'city', 'cityi', 'cityj', 'cjh', 'claim', 'claimed', 'claims', 'clarify', 'clarity', 'class', 'classas', 'classcwith', 'classes', 'classic', 'classical', 'classnpis', 'classpas', 'clause', 'clausec', 'clauses', 'clear', 'clearly', 'clever', 'clg', 'clique', 'cliquedfhg', 'cliquev', 'clognby', 'close', 'closed', 'closely', 'closer', 'closure', 'clptx', 'clue', 'clus', 'cluster', 'clusterdproto', 'clusteris', 'clusters', 'clustersi', 'clustersiandjin', 'clusterthe', 'clusterto', 'clyde', 'cm', 'cmoves', 'cmust', 'cn', 'cnand', 'cndlgnebits', 'cnf', 'cnfor', 'cniso', 'cnist', 'cnlgnfor', 'cnlgnforn', 'cnlgnworks', 'cnlgnyieldst', 'cnlog', 'cnwhen', 'co', 'coalesce', 'code', 'codea', 'codecan', 'coded', 'codes', 'codeword', 'codewords', 'coding', 'codomain', 'coef', 'coin', 'coincidence', 'coins', 'col', 'collapsed', 'collecting', 'collection', 'collectionsdfs', 'collects', 'color', 'colord', 'colordx', 'colordy', 'colored', 'coloring', 'colors', 'colorstoresy', 'colorto', 'colortored', 'colorx', 'colton', 'column', 'columnj', 'columnjcontains', 'columns', 'columnsmatrix', 'com', 'combi', 'combina', 'combination', 'combinational', 'combinations', 'combinatorial', 'combine', 'combined', 'combining', 'come', 'comer', 'comes', 'coming', 'commas', 'commission', 'commissionsc', 'commodity', 'common', 'commonly', 'commonspindle', 'commutative', 'commutativity', 'compactly', 'company', 'companyp', 'comparable', 'compare', 'compared', 'compares', 'comparing', 'comparison', 'comparisons', 'compatible', 'compelling', 'compensate', 'compilers', 'comple', 'complement', 'complements', 'complete', 'completea', 'completedctable', 'completeness', 'completes', 'completing', 'complex', 'complexity', 'complicated', 'component', 'componentac', 'componentadcbc', 'components', 'composed', 'composite', 'composition', 'compound', 'compre', 'compress', 'compressed', 'compression', 'comprises', 'comprising', 'compu', 'comput', 'computable', 'computation', 'computations', 'compute', 'computec', 'computecis', 'computed', 'computee', 'computem', 'computer', 'computers', 'computes', 'computese', 'computesfis', 'computesm', 'computesmax', 'computesndjxjand', 'computew', 'computing', 'computinga', 'computingc', 'computinge', 'computingfruns', 'computingm', 'con', 'concate', 'concatenate', 'concatenatinglto', 'concatenation', 'conceivably', 'concepts', 'concern', 'concerned', 'concise', 'concisely', 'conclude', 'concludes', 'conclusion', 'conclusions', 'conclusive', 'concrete', 'condi', 'condition', 'conditionaf', 'conditional', 'conditions', 'conditiont', 'confusion', 'conjecture', 'conjectures', 'conjunction', 'conjunctive', 'connect', 'connected', 'connecting', 'connectingc', 'connectingcto', 'connections', 'connective', 'connectives', 'connects', 'connectsato', 'conquer', 'consecutive', 'consecutively', 'consequence', 'consequently', 'consid', 'consider', 'considerably', 'consideration', 'considered', 'considering', 'consideringndifferent', 'considernchoices', 'considers', 'consist', 'consisting', 'consists', 'consonants', 'constant', 'constantc', 'constantclarge', 'constantcsuch', 'constantd', 'constantdtwice', 'constantk', 'constantksuch', 'constants', 'constantsa', 'constantthat', 'constantw', 'constituent', 'constitute', 'constitutes', 'constrain', 'constrained', 'constraints', 'construct', 'constructa', 'constructcfromxin', 'constructed', 'constructing', 'construction', 'constructs', 'consulting', 'consume', 'consumer', 'contain', 'containa', 'contained', 'containedyto', 'containing', 'containingjk', 'containingk', 'containingnpositive', 'containingrsanduv', 'containingx', 'containingxreduces', 'containk', 'contains', 'containsjvjtrees', 'containsnchecks', 'containsnckdigits', 'containsncoins', 'containsnentries', 'containsu', 'containsx', 'contents', 'context', 'contiguous', 'continue', 'continued', 'continuedfurther', 'continues', 'contraction', 'contracts', 'contradict', 'contradicting', 'contradictingp', 'contradiction', 'contradictory', 'contradicts', 'contrapositive', 'contrary', 'contrast', 'contribute', 'contributed', 'contributes', 'contributeso', 'contributing', 'contributingt', 'contribution', 'contributions', 'control', 'convenience', 'convenient', 'convention', 'converge', 'converse', 'conversely', 'convert', 'converted', 'convertedto', 'converting', 'converts', 'convince', 'conviviality', 'cookbook', 'copies', 'copy', 'copya', 'copying', 'cor', 'corner', 'corollary', 'corporation', 'corre', 'correct', 'corrected', 'correctly', 'correctness', 'correspon', 'correspond', 'corresponding', 'correspondingt', 'corresponds', 'cost', 'costb', 'costc', 'costf', 'costing', 'costly', 'costm', 'costs', 'costsntime', 'costt', 'couch', 'could', 'couldnotbe', 'count', 'counter', 'counterexample', 'counterintuitive', 'counterpart', 'counting', 'counts', 'couple', 'course', 'cov', 'cover', 'coverdfhg', 'covered', 'coverfw', 'coverof', 'covers', 'coverv', 'cp', 'cpairwise', 'cpu', 'cr', 'cre', 'create', 'created', 'createjvjtrees', 'creates', 'createsasubproblems', 'creating', 'creativity', 'credit', 'crete', 'crfrom', 'criterion', 'cross', 'crosses', 'crossing', 'crossover', 'crrepresent', 'crux', 'ct', 'ctitious', 'ctivity', 'cu', 'cubes', 'cue', 'cuitm', 'cult', 'culty', 'cumbersome', 'currence', 'currencies', 'currenciesiandj', 'currency', 'currencyi', 'currencyj', 'currencyn', 'currencyndoes', 'currencynexhibits', 'current', 'currently', 'cursion', 'cursive', 'cussed', 'cusses', 'customize', 'cut', 'cutnnearly', 'cutrespectsa', 'cuts', 'cutting', 'cw', 'cy', 'cycle', 'cyclec', 'cycledfhgiwgis', 'cycleh', 'cycleof', 'cycles', 'cyclical', 'cytosine', 'da', 'daccggtcgagtgcgcggaagccggccgaa', 'daily', 'dakota', 'darkened', 'darker', 'dash', 'dashed', 'dat', 'data', 'date', 'dated', 'dates', 'day', 'dayi', 'dayiis', 'days', 'db', 'dc', 'dcand', 'dcfor', 'ddnlgn', 'de', 'deadline', 'deadlined', 'deadlinekc', 'deadlines', 'deal', 'deals', 'decessor', 'deci', 'decid', 'decide', 'decided', 'decidel', 'decides', 'decidesl', 'deciding', 'decision', 'decisions', 'decodes', 'decoding', 'decom', 'decompose', 'decomposi', 'decomposition', 'decompositions', 'decrease', 'decreasing', 'decrements', 'deep', 'default', 'degree', 'degreep', 'degrees', 'degreet', 'degreetfor', 'degreeu', 'del', 'dele', 'delete', 'deletea', 'deleteas', 'deletebe', 'deletecalls', 'deletecan', 'deleted', 'deletedeletes', 'deletedfrom', 'deletedx', 'deletefrom', 'deletegfrom', 'deletehas', 'deletek', 'deletekfromy', 'deleteonv', 'deleteoperations', 'deleteprocedure', 'deleteruns', 'deletes', 'deleteso', 'deletesxfrom', 'deletewith', 'deletewithin', 'deletex', 'deleting', 'deletingc', 'deletingxand', 'deletingyand', 'deletion', 'demaine', 'demarcate', 'demarcating', 'dementiev', 'demon', 'demonstrate', 'demonstrated', 'demonstrates', 'demonstrating', 'demorgan', 'dence', 'denomination', 'denominations', 'denote', 'denotes', 'denoting', 'dense', 'density', 'dent', 'depend', 'dependent', 'depending', 'depends', 'depicts', 'depth', 'depthblog', 'depthh', 'depthi', 'depthiis', 'depthiisn', 'depthj', 'depthjis', 'depthksuch', 'depths', 'derivative', 'derive', 'derived', 'deriving', 'derpinnings', 'derstand', 'descend', 'descendant', 'descending', 'descends', 'describe', 'described', 'describes', 'describing', 'description', 'design', 'designated', 'designed', 'designer', 'designing', 'desirable', 'desire', 'desired', 'desiredo', 'desktops', 'despite', 'destroyed', 'destroying', 'detail', 'detailed', 'details', 'detects', 'deter', 'determine', 'determined', 'determineda', 'determines', 'determinesm', 'determining', 'deterministic', 'develop', 'developed', 'developing', 'develops', 'devise', 'devoted', 'dexjc', 'df', 'dfb', 'dfu', 'dgtcgttcggaatgccgttgctctgtaaa', 'dhigh', 'di', 'diagonal', 'diagonals', 'diagram', 'dicates', 'dicesiandj', 'dictates', 'dictionaries', 'dictionary', 'didate', 'dif', 'differ', 'difference', 'differences', 'different', 'differently', 'differing', 'differs', 'digit', 'digits', 'dijkstra', 'dimensionn', 'dimensions', 'dimes', 'direct', 'directed', 'direction', 'directions', 'directly', 'dis', 'disallowing', 'discarded', 'discov', 'discover', 'discovered', 'discovering', 'discuss', 'discussed', 'discusses', 'discussing', 'discussion', 'discussions', 'disjoint', 'disk', 'disks', 'disruption', 'distance', 'distanceiinches', 'distances', 'distinct', 'distinction', 'distinguish', 'distinguished', 'distributed', 'distribution', 'ditional', 'ditions', 'diverse', 'divide', 'divided', 'dividen', 'divides', 'dividing', 'dixon', 'dle', 'dleis', 'dlerepresent', 'dm', 'dn', 'dna', 'dnf', 'dnlgn', 'dnlgnis', 'do', 'docode', 'dodecahedron', 'does', 'doesagraphghave', 'doesl', 'doing', 'dollar', 'dollars', 'domain', 'domains', 'dominated', 'dominates', 'done', 'door', 'double', 'doubly', 'downhill', 'downward', 'dq', 'dramatic', 'dramatically', 'drastic', 'draw', 'drawback', 'drawing', 'drawn', 'dreamed', 'drilling', 'drinking', 'drive', 'drives', 'dropping', 'ds', 'dsquare', 'dt', 'dual', 'duce', 'duces', 'duction', 'due', 'dummy', 'duplicate', 'duration', 'dure', 'during', 'dust', 'dw', 'dx', 'dy', 'dyfor', 'dynamic', 'each', 'eachclusterarray', 'eachid', 'eachjd', 'eachn', 'eachp', 'eachproto', 'eachvertexinv', 'eandris', 'ear', 'earch', 'earchand', 'earchoperation', 'earlier', 'earliest', 'early', 'earned', 'earning', 'earns', 'easier', 'easily', 'easiness', 'eastern', 'easy', 'ebits', 'ecrease', 'ecrossesthe', 'ect', 'ected', 'ects', 'ecursive', 'ecuting', 'ecvlgv', 'ed', 'edby', 'edf', 'edge', 'edgecrossing', 'edgee', 'edgeeenters', 'edgeein', 'edgeeis', 'edgeeleaves', 'edgefora', 'edges', 'edgesais', 'edgesatisfying', 'edgesf', 'edit', 'edmonds', 'educe', 'educeprocedure', 'educeso', 'ef', 'effect', 'effective', 'effectively', 'effects', 'effort', 'eforid', 'eft', 'eg', 'eight', 'einto', 'eis', 'either', 'eitherbn', 'eitherid', 'eitherredorblack', 'eithert', 'eitherx', 'eithery', 'el', 'elaborate', 'eld', 'ele', 'electronic', 'element', 'elementis', 'elements', 'elementsi', 'elementsminandmax', 'elementuto', 'elementx', 'elementxfrom', 'elementxpassed', 'elementxtoawould', 'elementxwithin', 'elementy', 'elete', 'eletebothxandx', 'eletecalls', 'eletecontains', 'eleteis', 'eleteon', 'eleteop', 'eleteoperation', 'eleteprocedure', 'elevate', 'elg', 'elge', 'elgv', 'eliminate', 'eliminating', 'else', 'elsec', 'elseifc', 'elseifright', 'elseifv', 'elseletcbeanewa', 'elsemiddb', 'elsemin', 'elseoffsetdproto', 'elseoffsetdveb', 'elsepartitiona', 'elsev', 'elsewhere', 'em', 'emattributes', 'ember', 'emberoperation', 'emberoperations', 'embodies', 'emde', 'ement', 'ements', 'emnames', 'emoized', 'empirical', 'employ', 'employee', 'empty', 'en', 'enclose', 'enclosed', 'enclosing', 'encode', 'encoded', 'encodes', 'encoding', 'encodinge', 'encodingeis', 'encodings', 'encodingse', 'encompasses', 'encoun', 'encounter', 'encountered', 'encounters', 'end', 'ended', 'ending', 'endpoints', 'endpointsuand', 'ends', 'energy', 'eneric', 'enforce', 'enforces', 'engineer', 'engineering', 'english', 'engthenables', 'engthon', 'engthtakes', 'engththat', 'enhance', 'enormous', 'enough', 'ensue', 'ensure', 'ensures', 'entail', 'entails', 'enter', 'enterprises', 'enters', 'entire', 'entirely', 'entries', 'entriesc', 'entriese', 'entriesm', 'entry', 'entrya', 'entryb', 'entryc', 'entrym', 'entryr', 'entrys', 'enue', 'enues', 'enumerate', 'enumerated', 'enumerating', 'equa', 'equal', 'equalities', 'equality', 'equally', 'equals', 'equalsj', 'equation', 'equationcda', 'equations', 'equiva', 'equivalent', 'equivalently', 'equivalents', 'eration', 'erations', 'ered', 'erge', 'err', 'erred', 'error', 'errors', 'ers', 'ersistent', 'es', 'esan', 'esc', 'eslanguagelin', 'eslin', 'especially', 'est', 'establish', 'established', 'establishing', 'estand', 'estimate', 'esx', 'et', 'etb', 'etbadjacent', 'etbalso', 'etbare', 'etbas', 'etbbelong', 'etbby', 'etbconsisting', 'etbcontains', 'etbdoes', 'etbdt', 'etbeb', 'etbed', 'etbgif', 'etbhas', 'etbin', 'etbing', 'etbingconsisting', 'etbint', 'etbinto', 'etbis', 'etbiwthere', 'etbmust', 'etbofg', 'etbpoints', 'etbr', 'etbri', 'etbthat', 'etbto', 'etbwith', 'etc', 'etx', 'euler', 'evaluate', 'evaluates', 'evaluating', 'even', 'evenly', 'eventually', 'ever', 'every', 'everyn', 'evidence', 'ex', 'exact', 'exactly', 'exactlyjcj', 'exactlyjcjleaves', 'exactlyjvj', 'exactlykvariables', 'exactlyn', 'exactlyniterations', 'exactlyntimes', 'exactlyt', 'exam', 'examination', 'examine', 'examined', 'examines', 'examinesa', 'examinesx', 'examining', 'example', 'examples', 'exceed', 'exceeds', 'excellent', 'except', 'exception', 'exchange', 'exchanged', 'exchanges', 'exchangesxwithmin', 'exchanging', 'exchangingyandbdoes', 'excise', 'excised', 'exciting', 'excludes', 'excludingj', 'exclusive', 'execute', 'executed', 'executes', 'executesjvj', 'executesjvjtimes', 'executeso', 'executing', 'execution', 'exercise', 'exercises', 'exhaust', 'exhausted', 'exhaustive', 'exhaustively', 'exhibit', 'exhibits', 'exhibitsoptimal', 'exist', 'existed', 'existence', 'existing', 'exists', 'existsy', 'exit', 'expand', 'expanded', 'expandedproto', 'expanding', 'expands', 'expansion', 'expansionoff', 'expect', 'expectation', 'expected', 'expensive', 'experience', 'experiments', 'explain', 'explicit', 'explicitly', 'exploit', 'explore', 'explores', 'exponential', 'exponentially', 'express', 'expressb', 'expressed', 'expression', 'extend', 'extendato', 'extended', 'extends', 'extension', 'extensions', 'external', 'extra', 'extract', 'extracts', 'ey', 'faces', 'fact', 'factor', 'factoring', 'factors', 'fail', 'fails', 'fair', 'fairly', 'fall', 'falls', 'false', 'falseand', 'falseandtrueeach', 'falsely', 'familiar', 'family', 'fan', 'far', 'farach', 'fashion', 'fashioned', 'fast', 'faster', 'fastest', 'faulty', 'favor', 'favorite', 'fcorrectly', 'fear', 'feasible', 'features', 'fed', 'fee', 'feed', 'feeds', 'feel', 'ference', 'ferent', 'fetching', 'fewer', 'fewest', 'fi', 'fibonacci', 'fig', 'figure', 'figures', 'finally', 'find', 'finding', 'first', 'fixed', 'fixup', 'fixupand', 'fixupare', 'fixupcorrectly', 'fixupin', 'fixupis', 'fixupmight', 'fixupnever', 'fixupoperates', 'fixuprestores', 'fixuptakeso', 'fixupterminates', 'fixupto', 'fixupworks', 'focus', 'focusing', 'follow', 'followed', 'following', 'followingleftchild', 'followingn', 'followingrightpointers', 'follows', 'followskin', 'foolainto', 'fools', 'foot', 'for', 'fora', 'foraconnects', 'foracrossing', 'foragivenvalueofx', 'foraitself', 'forb', 'forbon', 'forc', 'forcd', 'force', 'forcin', 'fordr', 'fore', 'foreach', 'foreachx', 'forest', 'forestabeing', 'forestfd', 'forestg', 'forests', 'forever', 'forf', 'forg', 'forge', 'forgis', 'forgotten', 'forgwith', 'forhd', 'fori', 'foriand', 'forid', 'forj', 'forjd', 'fork', 'forkdi', 'forks', 'forl', 'forld', 'forloop', 'form', 'forma', 'formal', 'formalize', 'formalizing', 'formally', 'formatrix', 'formdbn', 'formed', 'formof', 'forms', 'formu', 'formula', 'formulag', 'formulas', 'formulate', 'formulated', 'formulation', 'forn', 'forncents', 'fornd', 'foro', 'forrd', 'fors', 'forsome', 'forsthat', 'fort', 'forth', 'forthe', 'fortunately', 'forward', 'forwhatvaluesofjej', 'forwhatvaluesoftis', 'forxandyhave', 'forxandywill', 'fory', 'found', 'four', 'fourn', 'fourth', 'fraction', 'fractional', 'fractions', 'frame', 'framework', 'fre', 'fredman', 'free', 'french', 'freq', 'freqand', 'freqandd', 'freqandx', 'freqandy', 'freqare', 'freqc', 'freqcy', 'freqd', 'freqda', 'freqdb', 'freqde', 'freqdenote', 'freqdx', 'freqdy', 'freqgiving', 'freqis', 'frequencies', 'frequency', 'frequencyc', 'frequent', 'frequently', 'friend', 'from', 'froma', 'fromc', 'fromm', 'frommemo', 'fromnd', 'fromq', 'fromqtor', 'fromqtorand', 'fromqtot', 'fromqtotwith', 'fromrtot', 'froms', 'fromstot', 'fromt', 'fromtand', 'fromu', 'fromuto', 'fromutow', 'fromutowand', 'fromutowwith', 'fromv', 'fromwto', 'fromwtox', 'fromx', 'fromxandw', 'fromxandy', 'fromxby', 'fromxdown', 'fromxto', 'fromxtowand', 'fromxtoy', 'fromxtoyif', 'fromxuntil', 'fromy', 'fromyup', 'front', 'fteen', 'ful', 'full', 'fully', 'fun', 'func', 'function', 'functional', 'functioncby', 'functionf', 'functionffroml', 'functionfmapping', 'functionfprovides', 'functionfsatis', 'functionfthat', 'functionfthereduction', 'functionfwf', 'functiong', 'functionn', 'functions', 'functionsf', 'functiont', 'functionw', 'functionwand', 'functionwde', 'functionwextends', 'functionwsuch', 'functionwthat', 'functionwwe', 'fundamental', 'fundamentally', 'furnishes', 'further', 'furthermore', 'future', 'fxg', 'fxgfor', 'fxgis', 'fxgmust', 'fxgofm', 'fying', 'gabow', 'gain', 'gained', 'galil', 'game', 'games', 'gant', 'gap', 'gaps', 'garey', 'gas', 'gate', 'gates', 'gave', 'gavril', 'gby', 'gd', 'gdeis', 'gekko', 'general', 'generality', 'generalization', 'generalize', 'generalizes', 'generally', 'generate', 'generated', 'generates', 'generating', 'generic', 'geometric', 'ger', 'get', 'gett', 'ghas', 'gif', 'gifi', 'gifs', 'gigabyte', 'gineering', 'gis', 'give', 'given', 'givenanintegerm', 'givent', 'giventhestable', 'givenxandy', 'gives', 'givesythe', 'giving', 'givingt', 'glance', 'gle', 'globally', 'glosses', 'glossing', 'gmust', 'go', 'goal', 'goes', 'gof', 'going', 'gold', 'good', 'gorithm', 'gorithmaacceptsa', 'gproduced', 'grade', 'gradually', 'graham', 'gram', 'gramming', 'grand', 'grandparent', 'graph', 'graphfor', 'graphg', 'graphgand', 'graphgare', 'graphgcorresponds', 'graphgd', 'graphgderived', 'graphggbelongs', 'graphghas', 'graphgis', 'graphgsuch', 'graphgtog', 'graphgwith', 'graphic', 'graphlike', 'graphs', 'graphsg', 'graves', 'great', 'greater', 'greatest', 'greatly', 'gredient', 'greedoid', 'greedy', 'greedyreturns', 'group', 'groupingndistinct', 'grow', 'growing', 'grown', 'grows', 'growth', 'gsatis', 'gtcgtcggaagccggccgaa', 'gu', 'guagelisaccepted', 'guanine', 'guarantee', 'guaranteed', 'guaranteeing', 'guarantees', 'guard', 'guess', 'guessed', 'guesser', 'guesses', 'guessing', 'guessingt', 'guest', 'guests', 'guibas', 'guide', 'gura', 'guration', 'gurationc', 'gurations', 'gure', 'guresr', 'gwhenud', 'ha', 'hadnvertices', 'hadx', 'hain', 'haken', 'half', 'hall', 'hallmark', 'halls', 'halt', 'halting', 'halts', 'halve', 'halves', 'ham', 'hamil', 'hamilto', 'hamilton', 'hamiltonian', 'hand', 'handed', 'handle', 'handled', 'handles', 'handling', 'happens', 'hard', 'harder', 'hardest', 'hardness', 'hardware', 'hartmanis', 'hasa', 'hasachildren', 'hasad', 'hasavertexcoverv', 'hasexactly', 'hash', 'hashing', 'haskinputs', 'hasknodes', 'hasnckdigits', 'hasoverlapping', 'hassler', 'hasx', 'hasxas', 'have', 'havead', 'haveb', 'havecolorattributes', 'havecolorattributesred', 'havedr', 'havef', 'havejej', 'havel', 'havenc', 'havesecondary', 'havet', 'havex', 'havexandyas', 'haveytake', 'having', 'havingxandyas', 'havior', 'hbinary', 'he', 'head', 'heads', 'heap', 'heaph', 'heaphthe', 'heaphwhose', 'heapis', 'heapprocedure', 'heaps', 'heapwith', 'heavily', 'heavy', 'height', 'heighth', 'heighthand', 'heighthin', 'heighthiso', 'heighthsince', 'heightk', 'heightn', 'heighto', 'heights', 'heighty', 'help', 'helper', 'helpful', 'helps', 'hence', 'henceforth', 'hensive', 'here', 'hereditary', 'heuristic', 'heuristics', 'hgi', 'hibits', 'hierarchical', 'hierarchy', 'high', 'higham', 'higher', 'highest', 'highlighted', 'highly', 'highway', 'hint', 'hirschberg', 'his', 'historical', 'hit', 'hitsnd', 'hold', 'holding', 'holdingp', 'holds', 'holdsjvjelements', 'honor', 'honors', 'hopcroft', 'hope', 'horizontal', 'horizontally', 'horowitz', 'hour', 'how', 'however', 'howg', 'howpbreakss', 'howt', 'howtmight', 'huffman', 'huge', 'hundred', 'huss', 'hypothesis', 'ian', 'iand', 'iandh', 'iappears', 'iare', 'ias', 'iattributes', 'ibe', 'ible', 'ic', 'iccut', 'id', 'idea', 'ideas', 'identi', 'identical', 'identify', 'identity', 'idjd', 'idk', 'ied', 'if', 'ifa', 'ifaandbare', 'ifad', 'ifadoes', 'ifaf', 'ifahas', 'ifais', 'ifanynp', 'ifawould', 'ifb', 'ifc', 'ifcd', 'ifcis', 'ifeis', 'iff', 'ifg', 'ifgd', 'ifgencodes', 'ifghas', 'ifgis', 'ifi', 'ifidhg', 'ifidj', 'ifk', 'ifkis', 'ifl', 'ifleft', 'iflis', 'ifmd', 'ifminandmaxare', 'ifn', 'ifnd', 'ifollows', 'ifor', 'iforid', 'ifpis', 'ifq', 'ifs', 'ifsis', 'ifsucc', 'ifthevalueiis', 'ifu', 'ifud', 'ifuis', 'ifv', 'ifvis', 'ifw', 'ifweusea', 'ifweviewxas', 'ifx', 'ifxdbbut', 'ifxdha', 'ifxdt', 'ifxequalsmin', 'ifxexists', 'ifxis', 'ifxwas', 'ify', 'ifyhad', 'ifyhas', 'ifyis', 'ifywas', 'ight', 'ignore', 'ignores', 'ihas', 'ii', 'iin', 'iis', 'iisq', 'ij', 'ijbyc', 'ijdollars', 'ijfc', 'ijincludes', 'ijthe', 'ijto', 'ijunits', 'ikcontains', 'ilarity', 'illustrate', 'illustrated', 'illustrates', 'illustration', 'ily', 'im', 'imaginary', 'imagine', 'imatrices', 'immediate', 'immediately', 'impact', 'imple', 'implement', 'implementation', 'implementations', 'implemented', 'implementing', 'implementqas', 'implements', 'implication', 'implications', 'implicit', 'implicitly', 'implied', 'implies', 'imply', 'implyt', 'important', 'imposing', 'impossible', 'impractical', 'improper', 'improve', 'improved', 'improvement', 'improves', 'imum', 'in', 'ina', 'inaand', 'inaare', 'inaas', 'inacrosses', 'inaform', 'inal', 'inawhose', 'inb', 'inc', 'inch', 'inchaving', 'inches', 'incidence', 'incident', 'include', 'includec', 'included', 'includes', 'includesa', 'including', 'includingawould', 'includingx', 'incluster', 'incompatible', 'incomplete', 'inconsistent', 'incorporate', 'incorporates', 'incorporating', 'incorrect', 'increas', 'increase', 'increasenby', 'increases', 'increasing', 'incrementing', 'incrementingi', 'incrementingj', 'increments', 'incrementsi', 'incur', 'incurred', 'incurs', 'incwith', 'ind', 'inde', 'indeed', 'indepen', 'independence', 'independent', 'independently', 'indeterminatexreduces', 'index', 'indexed', 'indexes', 'indexi', 'indexiatmidand', 'indexisuch', 'indexj', 'indexjatmidc', 'indexkthat', 'indexmidof', 'indexr', 'indexrfor', 'indexrin', 'indi', 'indianapolis', 'indicate', 'indicated', 'indicates', 'indicating', 'indicator', 'indices', 'indicesf', 'indicesiandj', 'indicesiintoxandjinto', 'indiceslow', 'indicesmax', 'indisjunctive', 'individual', 'induc', 'induce', 'induction', 'inductive', 'inductively', 'ine', 'inef', 'ineincident', 'ineis', 'inequal', 'inequality', 'inequalitydxe', 'ines', 'inethat', 'infor', 'informa', 'informally', 'information', 'informed', 'infrequent', 'ing', 'ingconnect', 'inghas', 'ingot', 'ingredient', 'ingredients', 'ingxyields', 'inhbelongs', 'inherent', 'ini', 'inimum', 'inimumand', 'inimumoperation', 'inimumruns', 'initial', 'initialization', 'initialize', 'initializeato', 'initializek', 'initializeqin', 'initializes', 'initializesr', 'initializing', 'initially', 'injvj', 'ink', 'inl', 'inline', 'inlis', 'inm', 'inmax', 'inmcontain', 'inminandmax', 'inmindoes', 'inn', 'innas', 'innck', 'inncm', 'inndjxj', 'innerforloop', 'innermostforloop', 'inning', 'innings', 'ino', 'inorder', 'inother', 'inp', 'inpequals', 'input', 'inputgto', 'inputhx', 'inputs', 'inputsxandyand', 'inputx', 'inputxand', 'inputxintof', 'inputxisn', 'inputyof', 'inputytocsuch', 'inq', 'inqin', 'inquiry', 'inr', 'inrow', 'ins', 'insand', 'insert', 'insertand', 'insertare', 'insertbegins', 'insertdiffer', 'inserted', 'insertedinitial', 'insertedx', 'inserthas', 'inserting', 'insertingbinto', 'insertingfinto', 'insertinglinto', 'insertingnitems', 'insertingnnodes', 'insertingqinto', 'insertingxinto', 'insertion', 'insertis', 'insertkinto', 'insertmade', 'insertmakes', 'insertperforms', 'insertperformso', 'insertproce', 'insertprocedure', 'insertrepeatedly', 'inserts', 'insertsxinto', 'inserttakeso', 'insertthat', 'insertthe', 'insertto', 'insertwith', 'insertworks', 'insertwould', 'insertx', 'inshas', 'inside', 'insights', 'inspecting', 'inspection', 'installed', 'instance', 'instanceaxcbd', 'instancee', 'instancef', 'instancefor', 'instanceh', 'instancehg', 'instancehgi', 'instancehs', 'instancei', 'instanceifor', 'instanceiof', 'instances', 'instancexof', 'instead', 'insthat', 'instruc', 'instruction', 'instructions', 'inswith', 'int', 'integer', 'integerb', 'integerj', 'integerk', 'integerkis', 'integerm', 'integern', 'integers', 'integersn', 'integerss', 'integert', 'integertargett', 'integerw', 'integral', 'inter', 'interconnected', 'interest', 'interesting', 'intermediate', 'internal', 'interpret', 'interpretation', 'interpreted', 'interpreting', 'interpretn', 'intersec', 'intersection', 'intersections', 'interval', 'intervals', 'inthatorder', 'inthis', 'intlarger', 'intlies', 'intoearly', 'intofaandxto', 'intokpieces', 'intox', 'intoy', 'intractability', 'intractable', 'intricacies', 'intricate', 'intriguing', 'intro', 'introduce', 'introduced', 'introducing', 'introduction', 'intsmaller', 'intthat', 'intu', 'intuition', 'intuitively', 'inunary', 'inv', 'invand', 'invariant', 'invented', 'inverse', 'invest', 'investddollars', 'invested', 'investement', 'investigate', 'investigates', 'investment', 'investmentiin', 'investmentiprovides', 'investments', 'invexactly', 'invis', 'invismin', 'invocation', 'invocations', 'invoke', 'involve', 'involved', 'involves', 'involving', 'inw', 'inwhat', 'inx', 'inxduring', 'inxis', 'inxthat', 'inythat', 'iof', 'ip', 'irepresents', 'is', 'isa', 'isacbt', 'isall', 'isalso', 'isapowerof', 'ise', 'isearlyin', 'iseparate', 'isfullif', 'isfully', 'ish', 'isha', 'ishu', 'isindependentif', 'isk', 'islatein', 'ism', 'ismemoization', 'isnd', 'isndblgkcc', 'isnonhamilto', 'isnota', 'isnp', 'iso', 'isolated', 'isomorphic', 'isomorphism', 'isomorphismdfhg', 'isplits', 'ispolynomial', 'ispqr', 'isq', 'isr', 'issatis', 'isspanning', 'issue', 'ist', 'istd', 'istop', 'istor', 'isud', 'isweightedif', 'isx', 'isy', 'it', 'itcontainscodewordsbeginning', 'item', 'itemj', 'itemjfrom', 'items', 'itera', 'iterate', 'iteratejtimes', 'iteratesntimes', 'iteration', 'iterations', 'iterative', 'ithat', 'ities', 'ition', 'itive', 'itively', 'itly', 'itmustbepolynomiallysmaller', 'ito', 'its', 'itsa', 'itscolor', 'itself', 'itselfktimes', 'itsforloops', 'itsmedian', 'itsminandmaxattributes', 'itsminandmaxvalues', 'iwill', 'iwould', 'ixup', 'ixuptakeso', 'ixupwill', 'ized', 'jacent', 'jagger', 'jaj', 'jand', 'jas', 'jbj', 'jc', 'jconsecutive', 'jd', 'jdk', 'jected', 'jej', 'jejc', 'jejin', 'jensen', 'jfe', 'jfm', 'jfor', 'jforkdi', 'jg', 'ji', 'jin', 'jis', 'jknorstdebauv', 'jknorstdecauv', 'jmust', 'job', 'jof', 'john', 'johnson', 'join', 'joining', 'joins', 'joint', 'jserves', 'jsj', 'jsplits', 'jstarts', 'jthat', 'jto', 'junctive', 'just', 'justi', 'justify', 'justt', 'jvj', 'jvjiofjvjvertices', 'jwithout', 'jxjc', 'kalong', 'kare', 'karger', 'kas', 'kat', 'kbe', 'kc', 'kcc', 'kch', 'kcould', 'kd', 'ke', 'keep', 'keeping', 'keeps', 'keepsx', 'kentries', 'key', 'keyada', 'keyand', 'keyapply', 'keyboard', 'keyd', 'keyedonthefreqattribute', 'keyis', 'keyk', 'keykfrom', 'keykfromx', 'keykif', 'keykin', 'keykinto', 'keykintox', 'keykis', 'keykor', 'keykto', 'keykwithx', 'keyor', 'keyr', 'keys', 'keysa', 'keysd', 'keysf', 'keysk', 'keysofymoves', 'keyy', 'kg', 'kgbe', 'kibe', 'kiis', 'kill', 'killthe', 'kin', 'kinds', 'king', 'kiof', 'kis', 'kiwgd', 'kiwgis', 'kiwgraphghas', 'kj', 'kjcontains', 'kjvj', 'kjvjsuch', 'kleene', 'klein', 'knapsack', 'knew', 'know', 'knowing', 'knowledge', 'known', 'knows', 'knuth', 'kof', 'koml', 'korte', 'kprovides', 'kruskal', 'kto', 'kwith', 'label', 'labeled', 'labelednin', 'labels', 'labelsto', 'labeltcorresponds', 'lack', 'lan', 'language', 'languageacceptedby', 'languagegraph', 'languagel', 'languagelbelongs', 'languagelif', 'languagelis', 'languageliscompletefor', 'languagelisdecided', 'languagelisdecidedby', 'languagelover', 'languagelsatis', 'languages', 'languageslsuch', 'laptops', 'lar', 'large', 'largen', 'larger', 'largest', 'largestksuch', 'largestt', 'largesttsuch', 'last', 'late', 'lated', 'later', 'latest', 'latter', 'lawler', 'laws', 'lawsfor', 'layout', 'lcs', 'lcshb', 'lcss', 'ldf', 'le', 'leabcas', 'lead', 'leads', 'leaf', 'leafwwould', 'learn', 'learned', 'least', 'leasti', 'leastkedgesg', 'leastt', 'leasttchildren', 'leasttkeys', 'leave', 'leaves', 'leavesa', 'leavesaandbare', 'leavesbandyproduces', 'leavesxandyare', 'leaving', 'leavingialone', 'leavingjalone', 'leavingwred', 'leavingxwith', 'leavingy', 'lecture', 'led', 'leda', 'lederman', 'lee', 'left', 'leftand', 'leftdnil', 'leftdx', 'leftifu', 'leftmost', 'leftmostproto', 'leftorx', 'leftpointers', 'leftto', 'legal', 'leighton', 'lelewer', 'lem', 'lemma', 'lemmas', 'lems', 'length', 'lengthdnc', 'lengthi', 'lengthifor', 'lengthiforid', 'lengthiinches', 'lengthiis', 'lengthithat', 'lengthj', 'lengthkc', 'lengthld', 'lengthn', 'lengthnas', 'lengthncuts', 'lengthndjij', 'lengthnin', 'lengthninches', 'lengthnis', 'lengthnof', 'lengtho', 'lengthon', 'lengthp', 'lengths', 'lengthsi', 'lently', 'les', 'less', 'lest', 'let', 'leta', 'letaandbbe', 'letabe', 'letb', 'letbbe', 'letc', 'letcbe', 'letcbeanewn', 'letd', 'letdbe', 'lete', 'letebe', 'letf', 'letg', 'letgbe', 'letgd', 'letidbx', 'letk', 'letkbe', 'letlbe', 'letm', 'letmax', 'letmd', 'letmdlgu', 'letnbe', 'letndenotejsj', 'letqbe', 'letr', 'lets', 'letsbe', 'lett', 'lettbe', 'letter', 'letterr', 'letters', 'letthe', 'letting', 'lettingadbgives', 'lettingmdlgu', 'lettingn', 'lettingt', 'lettingxdenote', 'letw', 'letxandybe', 'letxbe', 'lety', 'letzd', 'level', 'levelproto', 'levels', 'lewis', 'lfor', 'lg', 'lgblevels', 'lge', 'lgjejdo', 'lgm', 'lgn', 'lgnlg', 'lgtover', 'lgu', 'lguand', 'lguat', 'lgubits', 'lguends', 'lgulevels', 'lgulg', 'lgv', 'lie', 'lier', 'lies', 'lif', 'light', 'lightly', 'like', 'likely', 'likethe', 'likewise', 'limit', 'limited', 'limiting', 'limitl', 'limits', 'limitw', 'lin', 'line', 'linear', 'linearity', 'linearly', 'liners', 'lines', 'link', 'linked', 'linking', 'linkx', 'lis', 'list', 'listed', 'listing', 'listlis', 'listofthenitems', 'lists', 'literal', 'literall', 'literals', 'literalslr', 'literalx', 'literature', 'liters', 'little', 'liu', 'llb', 'lled', 'lling', 'llocate', 'lls', 'load', 'local', 'locally', 'location', 'locations', 'log', 'logarithm', 'logarithmic', 'logarithms', 'logic', 'logical', 'lone', 'long', 'longer', 'longest', 'look', 'looked', 'looking', 'looks', 'lookup', 'loop', 'loops', 'loose', 'lose', 'loss', 'lov', 'low', 'lowchigh', 'lower', 'lowers', 'lowest', 'lowlowmidmidhighhighcrosses', 'lowthe', 'lprovided', 'lution', 'luxury', 'machicolationhas', 'machine', 'machinery', 'machines', 'made', 'magnetic', 'magnetizable', 'magnitude', 'main', 'mainproto', 'maintain', 'maintainaas', 'maintained', 'maintaining', 'maintains', 'maintainsa', 'maintenance', 'major', 'majororder', 'make', 'makeaas', 'makecn', 'makek', 'makes', 'makeshigh', 'makesmid', 'makeso', 'makesypoint', 'makesythe', 'makexso', 'making', 'makinga', 'makingn', 'mal', 'mally', 'manage', 'management', 'manager', 'managers', 'mand', 'mandy', 'manipulation', 'mann', 'manner', 'many', 'map', 'mapping', 'mappingefromsto', 'maps', 'marginally', 'marked', 'market', 'mary', 'master', 'matched', 'matches', 'mate', 'mately', 'material', 'math', 'mathematical', 'mathematics', 'mation', 'matrices', 'matricesaandband', 'matricesaandbonly', 'matrix', 'matrixa', 'matrixc', 'matrixcby', 'matrixcinton', 'matrixcis', 'matrixfor', 'matrixmforms', 'matroid', 'matroidm', 'matroidmd', 'matroids', 'matter', 'matters', 'max', 'maxappropriately', 'maxdindex', 'maxhas', 'maxi', 'maximal', 'maximala', 'maximize', 'maximized', 'maximizes', 'maximizing', 'maximum', 'maximumand', 'maximumis', 'maximumoperations', 'maximumreturnnilif', 'maxstores', 'maxto', 'may', 'mboolean', 'mccreight', 'mcn', 'mcof', 'md', 'mean', 'meaningful', 'means', 'meantime', 'measure', 'measured', 'mechanical', 'median', 'meet', 'mehlhorn', 'mem', 'member', 'membermakes', 'memberprocedure', 'membership', 'memo', 'memoization', 'memoizationcomes', 'memoize', 'memoized', 'memoizethe', 'memoizing', 'memorize', 'memory', 'ment', 'mentation', 'mentioned', 'merge', 'mergeable', 'merged', 'mergekand', 'merger', 'mergers', 'merges', 'mergex', 'merging', 'messy', 'method', 'methodconverts', 'methodfor', 'methodology', 'methodprovides', 'methods', 'metic', 'mg', 'mgand', 'mgofx', 'mi', 'mial', 'mid', 'midand', 'midandmid', 'midc', 'middle', 'midpoint', 'midpointmid', 'might', 'miles', 'million', 'milliseconds', 'mimicking', 'mimplies', 'min', 'minate', 'mind', 'mine', 'minequals', 'mines', 'mini', 'minimize', 'minimized', 'minimizes', 'minimizew', 'minimizing', 'minimum', 'minimumand', 'minimumandveb', 'minimumin', 'minimumis', 'minimumon', 'minimumonv', 'mininto', 'minnesota', 'minoperation', 'minor', 'minplus', 'minstores', 'minumum', 'minus', 'minute', 'minutes', 'mis', 'misses', 'misspelling', 'mistakenly', 'mitigated', 'mization', 'mlgm', 'mn', 'mnemonic', 'model', 'modeling', 'models', 'moderately', 'modi', 'modify', 'modifying', 'modulo', 'mof', 'moivre', 'molecules', 'moment', 'money', 'monge', 'monotoni', 'monotonically', 'montana', 'more', 'moreover', 'moreplat', 'most', 'mostb', 'mostcn', 'moste', 'mostk', 'mostkedges', 'mostkedgesg', 'mostkg', 'mostn', 'mostnchoices', 'mostnedges', 'mostnvalues', 'mosto', 'mostt', 'mosttdo', 'mostw', 'mostwpounds', 'motion', 'move', 'moved', 'movement', 'movements', 'moves', 'moving', 'movingycould', 'movingywithin', 'mreturned', 'mst', 'mthat', 'mtoaand', 'much', 'mul', 'mula', 'mulated', 'multi', 'multiple', 'multiplica', 'multiplication', 'multiplications', 'multiplicative', 'multiplied', 'multiplies', 'multiply', 'multiplya', 'multiplying', 'multiplyinga', 'multiplyingn', 'multiplyn', 'multiway', 'mum', 'must', 'mustf', 'mutually', 'naive', 'nak', 'nakblgnc', 'nakc', 'nakcross', 'nakh', 'naki', 'nakjvj', 'nakjvjand', 'nakleft', 'nakn', 'nakright', 'nakw', 'nal', 'nally', 'name', 'named', 'namedsummaryto', 'namelykdi', 'namesxandyin', 'namic', 'nand', 'nandk', 'nands', 'nanosecond', 'nary', 'narytree', 'nation', 'native', 'natively', 'natural', 'nature', 'nboolean', 'nc', 'ncc', 'nd', 'ndamaximum', 'ndenote', 'ndi', 'ndigd', 'nding', 'ndjhgijis', 'ndlgnis', 'nds', 'ndsn', 'ndx', 'ndy', 'ne', 'neaproto', 'near', 'nearer', 'nearjvj', 'nearly', 'neath', 'neatly', 'neatness', 'nec', 'neces', 'necesarily', 'necessarily', 'necessary', 'nected', 'ned', 'nedm', 'nee', 'need', 'needed', 'needs', 'nefforc', 'nega', 'negate', 'negating', 'negation', 'negations', 'negative', 'neglect', 'neighbor', 'neither', 'neitherminnormax', 'neithers', 'nem', 'nes', 'ness', 'nested', 'nestedforloops', 'net', 'nethe', 'nethecomplementofg', 'netheithpre', 'network', 'never', 'neverthe', 'nevertheless', 'new', 'newly', 'newmin', 'newminin', 'newn', 'next', 'ney', 'nforid', 'nforn', 'ng', 'nginto', 'ngofnunit', 'nholds', 'ni', 'nian', 'niandwishto', 'nias', 'nibe', 'nice', 'nickels', 'nicolau', 'nil', 'niland', 'nilandx', 'nilbut', 'nilbyt', 'nilif', 'nilifvrepresents', 'nilifxhas', 'nilin', 'nilinstead', 'nilleaves', 'nilnilnilnilnilnilnilnilnil', 'nilnode', 'niloccupies', 'nilreplaced', 'nils', 'nilvalues', 'nilwhere', 'nimplies', 'nin', 'nine', 'ning', 'ninput', 'ninputs', 'niofndistinct', 'niofnmatrices', 'nique', 'nis', 'nish', 'nished', 'nishes', 'nishing', 'nite', 'nitely', 'nition', 'nitions', 'nize', 'nk', 'nkeys', 'nlg', 'nlgn', 'nlgncnf', 'nlgndcf', 'no', 'node', 'nodeabcdesplits', 'nodeb', 'nodeclbecause', 'nodedegjkand', 'nodedred', 'nodek', 'nodel', 'nodeq', 'noderis', 'nodersplits', 'noderst', 'nodes', 'nodesbanddand', 'nodescanddand', 'nodesis', 'nodesx', 'nodesxandyof', 'nodesxint', 'nodeu', 'nodeuwith', 'nodew', 'nodewcannot', 'nodewis', 'nodex', 'nodexadds', 'nodexalso', 'nodexandxis', 'nodexas', 'nodexcontaining', 'nodexever', 'nodexhas', 'nodexhascolor', 'nodexin', 'nodexintis', 'nodexis', 'nodexit', 'nodexkeeping', 'nodexmight', 'nodexmoves', 'nodexof', 'nodexthat', 'nodexto', 'nodexwhose', 'nodey', 'nodeyand', 'nodeyas', 'nodeydx', 'nodeyoriginally', 'nodeywas', 'nodeywill', 'noiat', 'nomial', 'non', 'nonconstructive', 'nondecreas', 'nondecreasing', 'nondeterminism', 'nondeterministic', 'none', 'nonempty', 'nonetheless', 'nonfull', 'nonfullinserts', 'nonfullis', 'nonfullprocedure', 'nonfullrecurses', 'nonfullto', 'nonhamiltonian', 'noninstances', 'noninstancex', 'noninstancexof', 'noninteger', 'nonleaf', 'nonnegative', 'nonoptimal', 'nonpolynomial', 'nonrecursive', 'nonroot', 'nontrivial', 'nor', 'norder', 'normal', 'normally', 'north', 'northeast', 'not', 'notation', 'notationa', 'notations', 'note', 'noted', 'notes', 'nothing', 'notice', 'noticed', 'notinde', 'noting', 'notion', 'notions', 'notmemorization', 'notpolynomiallylarger', 'nott', 'now', 'nowi', 'np', 'npas', 'npc', 'npcd', 'npdco', 'nrepresenting', 'nrepresents', 'nrod', 'nsert', 'nsertand', 'nsertbecomes', 'nsertef', 'nserttakeo', 'nserttakes', 'nsertwhen', 'nstring', 'nstringx', 'nto', 'ntowproduces', 'ntozto', 'nul', 'nula', 'nulawith', 'nulbdand', 'nuld', 'nulf', 'nulfeg', 'nulfrg', 'nulfrgg', 'nulfx', 'nulfxgis', 'nulfxgwb', 'nulfyg', 'nuli', 'nulic', 'nulicandidates', 'nulichoices', 'nulifrom', 'nuliis', 'nulikeys', 'nulipossibilities', 'nulipossible', 'nuljajtrees', 'nuljbjtrees', 'nuljci', 'nuljv', 'nuljvj', 'nulk', 'nulkif', 'nulkiof', 'null', 'nullowc', 'nulmid', 'nulmiditerations', 'nulp', 'nulq', 'nulqg', 'nulqof', 'nuls', 'nulson', 'nult', 'nulv', 'nulw', 'nulwpounds', 'nulwthat', 'nulx', 'nuly', 'num', 'number', 'numbered', 'numbering', 'numberk', 'numbermin', 'numbermof', 'numbernof', 'numbers', 'numbersacbiandccdiusing', 'numbersndf', 'numbert', 'numerical', 'numerically', 'nw', 'nwould', 'obey', 'obeying', 'object', 'objective', 'objects', 'objectx', 'objectxinto', 'obliviousalgo', 'observation', 'observations', 'observe', 'observed', 'observes', 'observing', 'obstacle', 'obtain', 'obtained', 'obtaining', 'obtains', 'obtaint', 'obvious', 'obviously', 'occasionally', 'occupy', 'occupyingy', 'occur', 'occurrence', 'occurs', 'october', 'odd', 'odds', 'oderequires', 'of', 'ofa', 'ofaare', 'ofaas', 'ofafor', 'ofaif', 'ofaifa', 'ofain', 'ofainto', 'ofais', 'ofamust', 'ofato', 'ofawhose', 'ofb', 'ofbandyto', 'ofbby', 'ofbhas', 'ofbthat', 'ofbto', 'ofbwith', 'ofc', 'ofcand', 'ofcandd', 'ofcatalan', 'ofcfrom', 'ofcin', 'ofcis', 'ofcisc', 'ofclauses', 'ofcn', 'ofcnfor', 'ofcprovide', 'ofcto', 'ofd', 'ofdistinctsubproblems', 'ofdto', 'ofe', 'ofeneed', 'ofeof', 'ofethat', 'ofetoadoes', 'off', 'offer', 'offered', 'offers', 'offersn', 'offevaluated', 'offset', 'ofg', 'ofgand', 'ofgin', 'ofgthat', 'ofh', 'ofha', 'ofiandjin', 'ofiandjsatisfying', 'ofioptimizes', 'ofj', 'ofja', 'ofjcj', 'ofjcjleaves', 'ofjvj', 'ofjvjvertices', 'ofk', 'ofkachieved', 'ofkat', 'ofkin', 'ofkminimizes', 'ofksuch', 'ofkvertices', 'ofl', 'oflsj', 'ofm', 'ofmbym', 'ofmbyx', 'ofmcharacters', 'ofmcontainingx', 'ofminormax', 'ofmis', 'ofn', 'ofncharac', 'ofncharacters', 'ofnd', 'ofndays', 'ofnelements', 'ofnintegerdeadlinesd', 'ofnist', 'ofnitems', 'ofnkeys', 'ofnmatrices', 'ofnnodes', 'ofnnonnegative', 'ofnnumbers', 'ofnoperations', 'ofntasks', 'ofntasksa', 'ofnvalues', 'ofnvertices', 'ofo', 'ofp', 'ofpis', 'ofq', 'ofr', 'ofrand', 'ofras', 'ofroot', 'ofs', 'ofsare', 'ofsby', 'ofscheduling', 'ofschosen', 'ofsinto', 'ofsof', 'ofsspecifying', 'ofssuch', 'ofsthat', 'ofswhose', 'oft', 'oftand', 'oftanda', 'oftd', 'often', 'oftfor', 'ofthevalue', 'oftinduced', 'ofttrees', 'oftyield', 'ofu', 'ofuan', 'ofuas', 'ofubits', 'ofuin', 'ofuor', 'ofv', 'ofvand', 'ofveb', 'ofw', 'ofwand', 'ofwandx', 'ofx', 'ofxand', 'ofxandy', 'ofxandyin', 'ofxandyof', 'ofxandyreplaced', 'ofxby', 'ofxcorresponds', 'ofxd', 'ofxin', 'ofxis', 'ofxsuch', 'ofxto', 'ofxwere', 'ofxwhose', 'ofxwill', 'ofy', 'ofybecomes', 'ofyin', 'ofymoves', 'ofyto', 'ofz', 'olated', 'omit', 'omits', 'omitted', 'on', 'ona', 'once', 'oncusing', 'ond', 'one', 'oneof', 'ones', 'oni', 'only', 'onlyj', 'onlyminandmax', 'onlyo', 'onlyonce', 'onlyonerelated', 'onlyt', 'onn', 'onndistinct', 'onnkeys', 'onnnodes', 'onnproves', 'onproto', 'onstruct', 'ont', 'onto', 'onu', 'onuby', 'onuing', 'onwwithout', 'onx', 'ookup', 'oor', 'oors', 'op', 'open', 'oper', 'opera', 'operands', 'operate', 'operates', 'operation', 'operations', 'operationsnfor', 'opportunity', 'opposite', 'opti', 'optimal', 'optimality', 'optimally', 'optimization', 'optimized', 'optimum', 'option', 'options', 'or', 'orblack', 'orcnf', 'orcodefor', 'order', 'ordercomputes', 'orderdetermines', 'ordered', 'orderfornd', 'ordering', 'orderpro', 'orderrepeatedly', 'orders', 'ordinary', 'ordnf', 'orem', 'orformal', 'orga', 'organ', 'organism', 'organisms', 'organization', 'organize', 'organizes', 'orh', 'orig', 'original', 'originally', 'originalmin', 'originalx', 'oring', 'orinverter', 'orjd', 'ork', 'ornd', 'oro', 'orpd', 'orpenaltiesw', 'orproto', 'ors', 'orsinto', 'ort', 'orveb', 'ory', 'os', 'otaterun', 'other', 'otherctable', 'othern', 'others', 'otherwise', 'ottom', 'our', 'outcome', 'outcomes', 'outgoing', 'outlined', 'outlines', 'outof', 'outperforms', 'output', 'outputf', 'outputg', 'outputs', 'outputting', 'outside', 'outsidew', 'over', 'overall', 'overcharge', 'overcharges', 'overcome', 'overemphasized', 'overhead', 'overlapping', 'overlaps', 'overload', 'overlooking', 'overly', 'overstated', 'overview', 'ow', 'package', 'page', 'pagebp', 'pages', 'paid', 'pair', 'pairmd', 'pairs', 'pairu', 'pairwise', 'pan', 'pand', 'pandyare', 'papadimitriou', 'paper', 'par', 'para', 'paradigm', 'paragraph', 'parallel', 'parameter', 'parameterk', 'parameternfor', 'parameters', 'parametersiandj', 'parametersvandx', 'parameterx', 'pare', 'parens', 'parent', 'parenthe', 'parentheses', 'parenthesiz', 'parenthesiza', 'parenthesization', 'parenthesizations', 'parenthesize', 'parenthesizea', 'parenthesized', 'parenthesizedif', 'parenthesizing', 'parenthesizinga', 'parentx', 'parse', 'parses', 'part', 'parti', 'particular', 'partition', 'partitioncinto', 'partitioning', 'partitions', 'parts', 'party', 'pas', 'pass', 'passed', 'passes', 'passing', 'paste', 'pasting', 'patashnik', 'path', 'pathdfhg', 'pathfrom', 'pathin', 'pathp', 'pathpand', 'pathpdh', 'pathpfrom', 'pathpfromu', 'pathpfromuto', 'pathphas', 'pathpwith', 'pathq', 'paths', 'pathsp', 'pathsq', 'pathu', 'pathwp', 'patible', 'patrick', 'pattern', 'pay', 'payoff', 'pays', 'pblack', 'pboth', 'pc', 'pcannot', 'pcircuit', 'pclique', 'pdflwlis', 'pdnp', 'pdnpdco', 'pdx', 'peated', 'peatedly', 'penalties', 'penalty', 'pencil', 'pendent', 'pennies', 'per', 'perfect', 'perform', 'performance', 'performed', 'performing', 'performs', 'performso', 'perhaps', 'perience', 'period', 'permanently', 'permit', 'permutation', 'permutations', 'persistent', 'person', 'personnel', 'persons', 'perspective', 'peven', 'pexists', 'pfree', 'pham', 'phase', 'philosophical', 'phoenix', 'physics', 'pick', 'picking', 'pickkso', 'piece', 'pieces', 'pies', 'pif', 'pin', 'pins', 'pioneered', 'pipeline', 'pipelined', 'pipelining', 'pis', 'pitch', 'pitchers', 'pivot', 'pivots', 'pl', 'place', 'placed', 'places', 'plan', 'planning', 'plans', 'platter', 'platters', 'play', 'player', 'players', 'plays', 'plby', 'ple', 'plemented', 'plications', 'plicitly', 'plus', 'plusk', 'pluso', 'plying', 'pmerely', 'pmight', 'pmodm', 'pmust', 'point', 'pointed', 'pointer', 'pointers', 'pointersummaryto', 'pointersx', 'pointerwto', 'pointerxmoves', 'pointerxtraces', 'pointery', 'pointeryas', 'pointing', 'points', 'pointxdais', 'poly', 'polygons', 'polyno', 'polynomial', 'polynomially', 'polynomials', 'poor', 'pops', 'popwork', 'portion', 'pos', 'pose', 'poses', 'posi', 'position', 'positioned', 'positionjare', 'positionjreceives', 'positions', 'positionxmodp', 'positive', 'positivem', 'possi', 'possibilities', 'possibility', 'possible', 'possibly', 'postorder', 'potential', 'pound', 'pounds', 'pow', 'power', 'powerful', 'powers', 'practical', 'practice', 'pre', 'precede', 'precedes', 'precedeskin', 'precedex', 'precedey', 'precise', 'precisely', 'precision', 'precursor', 'pred', 'prede', 'predecessor', 'predecessorlofmmoves', 'predecessorprocedure', 'predecessorreturnnilif', 'predecessorruns', 'prefer', 'prelation', 'preliminary', 'premains', 'preorder', 'prepaid', 'prepro', 'preprocess', 'preprocessing', 'prerequisite', 'presence', 'present', 'presentation', 'presented', 'presenting', 'presents', 'preserve', 'preserved', 'preserves', 'preserving', 'president', 'prespeci', 'presupposes', 'preventing', 'previous', 'previously', 'price', 'pricep', 'prices', 'prim', 'primar', 'primary', 'prime', 'primitive', 'principal', 'print', 'printer', 'printing', 'prints', 'printsbcba', 'prior', 'priori', 'priorities', 'priority', 'prioritymeans', 'pro', 'proach', 'prob', 'probabilities', 'probabilitiesp', 'probability', 'probabilityp', 'probabilityq', 'probably', 'problem', 'problema', 'problemafor', 'problemain', 'problemais', 'problemas', 'problemasks', 'problemato', 'problemb', 'problembin', 'problembis', 'probleme', 'probleminstancesand', 'problemis', 'problemq', 'problemqcan', 'problemqis', 'problemqmapping', 'problemqreduces', 'problemqto', 'problems', 'problemsolutions', 'problemtakes', 'proce', 'procedure', 'procedures', 'proceed', 'proceeded', 'proceeds', 'process', 'processed', 'processing', 'processor', 'processorhas', 'processors', 'prod', 'produce', 'produced', 'produces', 'producing', 'product', 'producta', 'productc', 'productcda', 'products', 'productsp', 'professor', 'professors', 'program', 'programmer', 'programming', 'programs', 'progress', 'progresses', 'progressing', 'progressively', 'proof', 'proofbecause', 'proofby', 'proofevery', 'prooffor', 'proofif', 'proofifais', 'proofimmediate', 'proofletlbe', 'prooflett', 'prooflettbe', 'proofs', 'proofsincexis', 'proofsuppose', 'proofthe', 'proofthis', 'proofto', 'proofwe', 'prop', 'proper', 'properties', 'property', 'propor', 'proportional', 'proposed', 'proposes', 'propositional', 'proto', 'prove', 'proved', 'proven', 'proves', 'provide', 'provided', 'provides', 'providesx', 'providing', 'proving', 'proximity', 'psat', 'pseu', 'pseudocode', 'pstarted', 'psubset', 'ptakes', 'ptimal', 'pto', 'ptox', 'ptoyin', 'purdom', 'purpose', 'purposes', 'pursue', 'push', 'pushgdown', 'pushpdown', 'put', 'puta', 'pute', 'puter', 'putes', 'putingm', 'puts', 'putting', 'putx', 'putxony', 'puzzles', 'pwas', 'pwhen', 'pwill', 'pwithout', 'qandw', 'qdm', 'qdmax', 'qdp', 'qincident', 'quadratic', 'quali', 'quantity', 'quantityp', 'quare', 'quarters', 'quence', 'quencies', 'quentially', 'queries', 'query', 'querying', 'question', 'questions', 'queue', 'queueq', 'queueqbased', 'queueqis', 'queueqto', 'queueqwith', 'quickly', 'quicksort', 'quired', 'quiringo', 'quite', 'ra', 'radix', 'raise', 'rajasekaran', 'ran', 'random', 'randomiza', 'randomized', 'randomly', 'randr', 'range', 'rangei', 'rangek', 'rangekc', 'ranges', 'ranging', 'rank', 'ranked', 'ranking', 'ranks', 'ransplant', 'ransplantdiffers', 'ransplantreplaces', 'rare', 'rarely', 'rate', 'rater', 'rates', 'rather', 'ratheroptimization', 'rating', 'ratings', 'ratio', 'ratiof', 'rauch', 'ray', 'raya', 'rayr', 'raysin', 'rb', 'rc', 'rcontains', 'rder', 'rderand', 'rderis', 'reach', 'reaches', 'read', 'readand', 'readfor', 'readily', 'reading', 'readis', 'readon', 'reador', 'reads', 'ready', 'real', 'realize', 'realizes', 'really', 'realm', 'reals', 'reap', 'reappears', 'rearrange', 'reason', 'reasonable', 'reasonably', 'reasoning', 'reasons', 'reate', 'recall', 'recalling', 'recast', 'receive', 'recent', 'recently', 'recognition', 'recogniz', 'recognizing', 'recolor', 'recoloring', 'recolorings', 'recombining', 'recompute', 'recomputem', 'recomputes', 'recomputing', 'recon', 'reconnects', 'reconstruct', 'reconstructing', 'record', 'recording', 'records', 'rect', 'rectangles', 'rected', 'rectly', 'rectness', 'recur', 'recurrence', 'recurrences', 'recurrencet', 'recurse', 'recurses', 'recursing', 'recursion', 'recursive', 'recursivea', 'recursively', 'red', 'rede', 'redecessor', 'redecessorso', 'redecessorwhen', 'redorblack', 'reduc', 'reduce', 'reduced', 'reducedescribed', 'reduces', 'reducibility', 'reducible', 'reducibleto', 'reducing', 'reducingevery', 'reduction', 'reductions', 'redundant', 'ree', 'reedy', 'reedyalways', 'reedycannot', 'reedyfor', 'reedyis', 'reedypasses', 'reedyselects', 'reedysetsatofxg', 'reedytakes', 'reedywill', 'reenter', 'refer', 'reference', 'referenced', 'references', 'referred', 'referring', 'refers', 'regard', 'regarding', 'regardless', 'region', 'regular', 'regularity', 'reject', 'rejected', 'rejectsxby', 'relate', 'related', 'relatedif', 'relation', 'relationship', 'relationships', 'relative', 'relatively', 'relax', 'relaxed', 'relevance', 'relied', 'relief', 'relies', 'rely', 'relying', 'remain', 'remainder', 'remaining', 'remainingproto', 'remains', 'remarkable', 'remedy', 'remember', 'remembers', 'remembery', 'remov', 'remove', 'removed', 'removes', 'removex', 'removing', 'removingufrom', 'renames', 'renamingmdlgnyields', 'rence', 'rences', 'renders', 'reorder', 'reordering', 'repeat', 'repeated', 'repeatedly', 'repeating', 'repeats', 'rephrased', 'replace', 'replacea', 'replaced', 'replacement', 'replaces', 'replacet', 'replacey', 'replaceyas', 'replaceyby', 'replacing', 'replacingybyxcannot', 'reported', 'repre', 'represen', 'represent', 'representation', 'representations', 'representative', 'represented', 'representf', 'representing', 'represents', 'representsa', 'representsf', 'representstrue', 'requests', 'require', 'required', 'requiredo', 'requirement', 'requirements', 'requires', 'requireso', 'requirex', 'requiring', 'research', 'researchers', 'resembles', 'reserving', 'reset', 'reside', 'resides', 'resolve', 'resource', 'resources', 'respec', 'respect', 'respective', 'respectively', 'respectsa', 'respond', 'responding', 'respondingproto', 'responsibility', 'rest', 'restate', 'restating', 'restore', 'restored', 'restores', 'restrict', 'restricted', 'restricting', 'restriction', 'restrictive', 'restricts', 'result', 'resulting', 'results', 'retically', 'retrace', 'retrieval', 'retrospect', 'return', 'returned', 'returnindex', 'returning', 'returningnil', 'returns', 'returnsa', 'returnsnil', 'returnsr', 'returnst', 'returntree', 'returntrueorfalserather', 'returnveb', 'rev', 'reveals', 'revenue', 'revenuep', 'revenueqto', 'revenuer', 'reverse', 'reversed', 'review', 'revise', 'revisit', 'revisits', 'revolutions', 'rewrite', 'rhas', 'ri', 'right', 'rightbased', 'rightdy', 'rightifuis', 'rightin', 'rightmost', 'rightthat', 'righttot', 'rint', 'ris', 'risasimplepath', 'rise', 'riteare', 'rithm', 'rithmfcomputing', 'rithms', 'rithmsolvesa', 'rlies', 'rmapping', 'rmative', 'rms', 'ro', 'road', 'robbed', 'robbing', 'rod', 'rodcalls', 'rodcreates', 'rodin', 'rodinitializes', 'rodinto', 'rodis', 'rodprocedure', 'rodreturns', 'rods', 'rodso', 'rodsolves', 'rodtakes', 'rodthat', 'rodto', 'rodwhen', 'root', 'rootandx', 'rootd', 'rooted', 'rootk', 'rootr', 'rootrof', 'roots', 'rootx', 'roster', 'rota', 'rotate', 'rotateand', 'rotateassumes', 'rotated', 'rotateis', 'rotatemodi', 'rotation', 'rotational', 'rotations', 'roto', 'rounding', 'roura', 'route', 'routes', 'routine', 'row', 'rowi', 'rowiand', 'rows', 'rpm', 'rs', 'rsare', 'rsas', 'rsbe', 'rsbelongs', 'rscan', 'rscloser', 'rscomposed', 'rsd', 'rsdc', 'rsevaluates', 'rshas', 'rshasx', 'rsi', 'rsiis', 'rsin', 'rsintogis', 'rsintroduces', 'rsis', 'rsishx', 'rsiw', 'rsproduced', 'rsqlpxtd', 'rst', 'rstnfibonacci', 'rsto', 'rstuseb', 'rto', 'rudiments', 'rule', 'ruled', 'rules', 'run', 'runkphases', 'running', 'runningkphases', 'runs', 'sabatier', 'sabermet', 'sabermetricsis', 'safe', 'safely', 'sahni', 'said', 'sake', 'salesman', 'sample', 'sandm', 'sarily', 'sartre', 'sat', 'satdfh', 'satdfhciwcis', 'satel', 'satellite', 'satis', 'satisfy', 'satisfya', 'satisfying', 'save', 'saved', 'saves', 'savey', 'saving', 'savings', 'saw', 'saxe', 'say', 'saying', 'sayk', 'saymid', 'sayp', 'says', 'saysummary', 'sayt', 'sayw', 'scalar', 'scan', 'scanning', 'scans', 'scapegoat', 'scattered', 'scattering', 'scenarios', 'schedul', 'schedule', 'scheduled', 'scheduleforsis', 'scheduling', 'scheme', 'schemes', 'scientists', 'scope', 'score', 'scores', 'scratch', 'scribe', 'sd', 'se', 'seam', 'search', 'searched', 'searches', 'searching', 'searchis', 'searchiso', 'searchpro', 'searchprocedure', 'searchreturns', 'searchtakes', 'searchto', 'seattle', 'sec', 'second', 'secondary', 'section', 'sections', 'sedgewick', 'see', 'seek', 'seem', 'seems', 'seen', 'segments', 'seidel', 'select', 'selected', 'selecting', 'selectingkto', 'selection', 'selectk', 'selector', 'selectoris', 'selectoron', 'selectorschedules', 'selectortakes', 'selectorworks', 'selects', 'self', 'sell', 'selling', 'sells', 'seminal', 'sen', 'sense', 'sent', 'sentative', 'sented', 'sentinel', 'sentinels', 'sentinelt', 'separate', 'separated', 'separately', 'separatesyand', 'separateyfrom', 'sequence', 'sequenceh', 'sequencehb', 'sequencehi', 'sequenceofxandyifzis', 'sequencepd', 'sequences', 'sequencesx', 'sequencesxandy', 'sequencesxd', 'sequencesxdgatcggcatandydcaatgtgaatc', 'sequencesxdha', 'sequencesxdhx', 'sequenceu', 'sequencexdhx', 'sequencezis', 'sequencing', 'sequential', 'serial', 'series', 'serling', 'serting', 'sertsx', 'serve', 'server', 'serves', 'set', 'seta', 'setaalways', 'setaand', 'setaas', 'setabeing', 'setaforms', 'setain', 'setais', 'setand', 'setaof', 'setareturned', 'setatrivially', 'setb', 'setbis', 'setcdf', 'setcofncharacters', 'setf', 'setfa', 'setfx', 'seti', 'setiof', 'setito', 'setitof', 'setitox', 'setktom', 'setminandmaxto', 'setoperations', 'setqadds', 'sets', 'setsa', 'setsaandb', 'setsand', 'setsare', 'setsb', 'setscontains', 'setsfor', 'setsmaxto', 'setsof', 'setson', 'setss', 'setst', 'setsummary', 'setsv', 'setsxto', 'setsyto', 'sett', 'setting', 'settingidic', 'settingidmc', 'settingx', 'settingxto', 'settle', 'setup', 'setv', 'setvof', 'setxto', 'setyto', 'seven', 'several', 'severe', 'shaded', 'shading', 'shall', 'share', 'shared', 'she', 'shift', 'shifting', 'short', 'shorter', 'shortest', 'should', 'show', 'showed', 'showing', 'shown', 'shows', 'showst', 'shrinking', 'shrinks', 'si', 'siare', 'sibling', 'siblings', 'siblingwis', 'siblingwofxis', 'sid', 'side', 'sider', 'sides', 'sign', 'signi', 'signing', 'signs', 'silicon', 'sim', 'simi', 'similar', 'similarities', 'similarity', 'similarly', 'similars', 'simon', 'simple', 'simpler', 'simplest', 'simpli', 'simplicity', 'simplify', 'simplifying', 'simply', 'simulatingcnk', 'simulation', 'sin', 'since', 'sincea', 'sinceais', 'sinceb', 'sinceband', 'sincebdlgu', 'sincebis', 'sincecis', 'sincef', 'sincegcontains', 'sincel', 'sinceqis', 'sinces', 'sincet', 'sincetis', 'sinceuand', 'sincewe', 'sincewis', 'sincewmust', 'sincex', 'sincexandyhave', 'sinceycould', 'single', 'singly', 'sinto', 'sion', 'sis', 'sith', 'situa', 'situation', 'situations', 'sive', 'sively', 'six', 'sixreturnstatements', 'sizations', 'size', 'sizebn', 'sized', 'sizedpagesof', 'sizei', 'sizeiandn', 'sizeidnand', 'sizeiis', 'sizeiof', 'sizej', 'sizejifi', 'sizejis', 'sizejvj', 'sizek', 'sizekd', 'sizekg', 'sizekif', 'sizekis', 'sizen', 'sizengets', 'sizenintoasubproblems', 'sizenof', 'sizenthat', 'sizep', 'sizes', 'sizesc', 'sizesjd', 'sizesjejandjvjbe', 'sizet', 'sizeu', 'sizeuin', 'sizeuis', 'sizeuof', 'sizeurequireso', 'sizeuto', 'skatemmiles', 'skating', 'skelton', 'sketch', 'sketches', 'sketching', 'skip', 'slack', 'sleator', 'slight', 'slightly', 'sloppiness', 'slot', 'slotiis', 'slots', 'slow', 'slower', 'slowly', 'small', 'smaller', 'smallest', 'smalln', 'snag', 'so', 'sob', 'soc', 'software', 'soh', 'sohb', 'sohbas', 'sohd', 'sohe', 'sohmax', 'sohmin', 'sohsuch', 'sole', 'solid', 'solu', 'solution', 'solutiona', 'solutions', 'solutiont', 'solv', 'solvability', 'solvable', 'solve', 'solvebothof', 'solved', 'solves', 'solvey', 'solving', 'solvingxdirectly', 'some', 'somehow', 'someone', 'somet', 'sometimes', 'someu', 'somewhat', 'somewhere', 'somex', 'somey', 'sort', 'sorted', 'sorting', 'sortingnelements', 'sortm', 'sortonnelements', 'sortprocedure', 'sortslexicographically', 'sothat', 'sothatl', 'sothatlgud', 'sothatlow', 'sothatmid', 'sothatp', 'sothatu', 'sothatud', 'sound', 'sounds', 'source', 'southeast', 'southwest', 'sov', 'space', 'span', 'spanning', 'spans', 'sparse', 'sparser', 'spe', 'speak', 'speaking', 'speci', 'special', 'specify', 'specifying', 'speech', 'speed', 'speeds', 'spencer', 'spend', 'spending', 'spendt', 'spent', 'spindle', 'spine', 'spineof', 'spineoftis', 'spines', 'splay', 'splice', 'spliceyout', 'splicing', 'split', 'splits', 'splitting', 'spond', 'sponding', 'square', 'squaren', 'srankwithin', 'st', 'stability', 'stable', 'stack', 'stacks', 'stages', 'standard', 'stands', 'stant', 'star', 'starof', 'start', 'started', 'starters', 'starting', 'starts', 'state', 'stated', 'statement', 'statements', 'states', 'statexy', 'statexyworking', 'stating', 'stationary', 'statistic', 'statistical', 'statistics', 'stead', 'stearns', 'steel', 'steiglitz', 'step', 'steps', 'stewart', 'sthat', 'stick', 'sticking', 'sticks', 'still', 'stock', 'stops', 'storage', 'storagebased', 'store', 'stored', 'storee', 'storenelements', 'stores', 'storing', 'straight', 'straightforward', 'strand', 'strands', 'strandss', 'strange', 'strassen', 'strate', 'strategies', 'strategy', 'strating', 'strengthened', 'strictly', 'string', 'stringaislexicographically', 'stringby', 'stringhciwhose', 'strings', 'stringsf', 'stringswithncharacters', 'stringx', 'stringxand', 'stringxbelongs', 'stringxif', 'stringxifa', 'stringxis', 'stringxto', 'stringy', 'stringycalled', 'strong', 'stronger', 'struc', 'struct', 'structions', 'structure', 'structuremaintains', 'structureproto', 'structures', 'structurev', 'structurevand', 'structurevthat', 'stuck', 'stucture', 'stud', 'studied', 'studies', 'study', 'studyingmatric', 'stx', 'stxb', 'stxjejma', 'stxjejmatrixmsuch', 'stxknmatrix', 'stxn', 'stxnarrayaof', 'stxnmatrices', 'stxnmatricesaandband', 'stxnmatrix', 'stxnmatrixaand', 'stxnmatrixtover', 'stxqmatrix', 'stxrmatrix', 'stxv', 'style', 'sub', 'subar', 'subarray', 'subarraya', 'subarrayand', 'subarrays', 'subarraysa', 'subchain', 'subchaina', 'subchains', 'subcircuit', 'subformulas', 'subgraph', 'subgraphg', 'subgraphsg', 'subject', 'subma', 'submatrices', 'submatricesc', 'submatrix', 'suboptimal', 'subpathq', 'subpathr', 'subpathsup', 'subprob', 'subproblem', 'subproblema', 'subproblems', 'subproblemss', 'subproblemsyadjacent', 'subproblemx', 'subproblemxbefore', 'subproblemxinvolves', 'subproblemxto', 'subproblemy', 'subproblemyif', 'subproblemywhen', 'subproducts', 'subproductsa', 'subranges', 'subrou', 'subroutine', 'subroutines', 'subscript', 'subse', 'subsection', 'subsequence', 'subsequences', 'subsequencewofx', 'subsequent', 'subset', 'subseta', 'subsetacorresponds', 'subsetada', 'subsetain', 'subsetais', 'subsetaof', 'subsetaofs', 'subsetaofsthat', 'subsetbofm', 'subsets', 'subsetv', 'substantial', 'substantially', 'substi', 'substitute', 'substituteyforxto', 'substituting', 'substitution', 'substring', 'substruc', 'substructure', 'substructureif', 'subsubproblem', 'subsubproblems', 'subsumed', 'subsumes', 'subtle', 'subtleties', 'subtlety', 'subtract', 'subtracted', 'subtracting', 'subtractn', 'subtracts', 'subtree', 'subtrees', 'subtreet', 'succ', 'succeeding', 'successful', 'succession', 'successive', 'successively', 'successor', 'successorcalls', 'successorinto', 'successork', 'successoron', 'successorprocedure', 'successorprocedures', 'successorruns', 'successortakeo', 'successory', 'successoryis', 'succinct', 'such', 'suchxexists', 'suf', 'suffer', 'suggest', 'suggests', 'suitable', 'suited', 'sum', 'sumandleft', 'sumandright', 'sumcright', 'sumdfhs', 'sume', 'sumedtobeinmainmemory', 'suming', 'sumleft', 'summarize', 'summarizes', 'summary', 'summaryproto', 'summarythat', 'summation', 'summations', 'summed', 'summing', 'sumof', 'sums', 'sumto', 'superimpos', 'superimpose', 'superimposed', 'superimposing', 'superlinear', 'superpolynomial', 'supervisor', 'supplied', 'supplies', 'supply', 'support', 'supported', 'supporting', 'supports', 'suppose', 'supposed', 'supposing', 'supposition', 'sur', 'sure', 'surface', 'surprised', 'surprising', 'surprisingly', 'surrounded', 'survey', 'swap', 'swapping', 'swhose', 'switch', 'switching', 'sym', 'symbolically', 'symbols', 'symmetric', 'symmetrically', 'syntactic', 'system', 'systematic', 'systems', 'ta', 'tab', 'taband', 'tabanda', 'tabdenote', 'tabdfawja', 'tabg', 'tabif', 'tabis', 'tabishereditaryif', 'table', 'tableb', 'tablec', 'tablecat', 'tablee', 'tablem', 'tablemin', 'tablemstrictly', 'tablepand', 'tableroot', 'tables', 'tablese', 'tableseandroot', 'tablesto', 'tablew', 'tabsuch', 'tabular', 'tail', 'tained', 'tains', 'tak', 'take', 'takea', 'takem', 'taken', 'takeo', 'takes', 'takesn', 'takeso', 'takessandfas', 'taking', 'tal', 'talk', 'tand', 'tapes', 'target', 'targett', 'targettas', 'targetthas', 'targettin', 'tarjan', 'task', 'taska', 'taskis', 'tasks', 'tasksa', 'tation', 'tations', 'tautologies', 'tautology', 'tautologyif', 'tchildren', 'tde', 'tdenotes', 'teach', 'team', 'tech', 'technical', 'technicalities', 'technicality', 'technically', 'technique', 'techniques', 'technology', 'tele', 'tell', 'telling', 'tells', 'tempted', 'ter', 'tered', 'term', 'terminate', 'terminates', 'termination', 'termine', 'termines', 'terminology', 'termnin', 'termp', 'terms', 'termt', 'ternal', 'ternary', 'ters', 'test', 'tested', 'testing', 'tests', 'testsy', 'testx', 'tex', 'text', 'textbook', 'textx', 'tg', 'th', 'thanadoes', 'thancnto', 'thanf', 'thani', 'thanj', 'thank', 'thankedges', 'thanl', 'thanleft', 'thanmin', 'thann', 'thannbecause', 'thannlog', 'thanp', 'thanq', 'thant', 'thantkeys', 'thanttasks', 'thanw', 'thanx', 'that', 'thata', 'thataacceptslin', 'thataf', 'thatahasxandbhas', 'thatais', 'thataismaximalif', 'thatbandaare', 'thatbhas', 'thatbn', 'thatc', 'thatcis', 'thatd', 'thatdm', 'thate', 'thatf', 'thatfcan', 'thatfconsists', 'thatfcorrectly', 'thatfruns', 'thatfxgis', 'thatfygis', 'thatg', 'thatgcontains', 'thatgd', 'thatgencodes', 'thatghas', 'thatgis', 'thath', 'thatis', 'thatj', 'thatjbj', 'thatjej', 'thatjv', 'thatk', 'thatkalways', 'thatkcould', 'thatl', 'thatlis', 'thatlow', 'thatm', 'thatmd', 'thatmsatis', 'thatn', 'thatndhigh', 'thatnis', 'thato', 'thatp', 'thatpbreakss', 'thatphaseedges', 'thatpis', 'thatproto', 'thatqis', 'thatr', 'thats', 'thatsplitsa', 'thatt', 'thattdjv', 'thattdoes', 'thattis', 'thatu', 'thatuand', 'thatud', 'thatuis', 'thatv', 'thatvhas', 'thatvis', 'thatw', 'thatwmay', 'thatx', 'thatxis', 'thatxloses', 'thatxwill', 'thaty', 'thatyhas', 'thatz', 'thatzis', 'the', 'theachildren', 'theand', 'theasubproblems', 'theatermst', 'theaverage', 'theb', 'thebandctables', 'thebhattribute', 'thebottom', 'thebtable', 'thec', 'thecandbtables', 'thecircuit', 'theclosureorkleene', 'theclusterarray', 'thecolor', 'thecolorattribute', 'thecomplementoflby', 'thecomplexity', 'theconcatenationl', 'thecontractionofmby', 'thecostof', 'thectable', 'thedenode', 'thedensityof', 'thee', 'theempty', 'theentry', 'theexact', 'theexchange', 'theexponential', 'thefan', 'thefor', 'theforloop', 'thefractional', 'thegenerating', 'thegraphic', 'thegreedy', 'thehamiltonian', 'thei', 'theicosion', 'theincidence', 'theindependentsubsets', 'theinterval', 'their', 'theirc', 'theircache', 'theirn', 'theith', 'theithcluster', 'thejoinoperation', 'thejth', 'thejvj', 'thejvjm', 'thekeyand', 'thekeytmoves', 'thekphases', 'thekth', 'thelanguage', 'theleft', 'thelengthof', 'thelongest', 'them', 'themandstables', 'themaster', 'thematrix', 'themax', 'themaximum', 'theminandmaxattributes', 'theminattribute', 'theminimum', 'themtable', 'then', 'thena', 'thencis', 'theneveryproblem', 'theng', 'thengis', 'thengmust', 'thenhg', 'theninput', 'thenitems', 'thenl', 'thenlis', 'thenm', 'thenot', 'thenp', 'thenqis', 'thent', 'thenth', 'thenw', 'thenwwould', 'thenx', 'thenxis', 'thenxmust', 'thenxneeds', 'theny', 'thenyis', 'thenyshould', 'thenzis', 'theo', 'theorem', 'theorems', 'theoretic', 'theoretical', 'theory', 'thep', 'thepartition', 'theprogram', 'theproto', 'theradix', 'therankof', 'there', 'thereafterahalts', 'therearejvjtrees', 'therearem', 'thereby', 'therecursion', 'therefore', 'thereforeo', 'thereforev', 'theright', 'therod', 'thersnode', 'thes', 'these', 'theshortest', 'thesizeof', 'thestable', 'thesubgraph', 'thesubproblem', 'thesubset', 'thesubstitution', 'thesummaryarray', 'thesummarystructures', 'thet', 'thetargetthasnckdigits', 'thetaylor', 'thetlargest', 'theto', 'thetotal', 'thetrailing', 'thetraveling', 'theuniverseof', 'thevalueofuused', 'thevan', 'theveb', 'thevertex', 'theweightw', 'thewhile', 'thewhileloop', 'thex', 'they', 'thief', 'thing', 'things', 'think', 'thinking', 'thinks', 'third', 'this', 'thisfor', 'thisforloop', 'thisp', 'thorough', 'thorup', 'those', 'though', 'thousands', 'three', 'throughn', 'throughout', 'throughrotation', 'throught', 'throughu', 'thumb', 'thus', 'thusa', 'thymine', 'tial', 'tices', 'ticular', 'ties', 'tight', 'til', 'timal', 'timally', 'time', 'timeby', 'timed', 'timei', 'timeo', 'timereduction', 'times', 'timeskandkc', 'timet', 'timetowalkann', 'tines', 'ting', 'tinto', 'tiof', 'tion', 'tional', 'tiononann', 'tions', 'tionwde', 'tiplication', 'tiplications', 'tis', 'tive', 'tively', 'tivities', 'tiwthere', 'tlog', 'tlogarithms', 'tmust', 'tnodes', 'to', 'toa', 'toaare', 'toais', 'toawhile', 'toaxcbd', 'toc', 'toccd', 'tocn', 'tod', 'todeci', 'toe', 'toeand', 'tof', 'together', 'togetherany', 'togethert', 'tohigh', 'tojvj', 'tol', 'tolerable', 'tolerate', 'tolow', 'tom', 'ton', 'tonc', 'tond', 'tonian', 'too', 'tooffset', 'took', 'tooko', 'tool', 'top', 'topological', 'toproto', 'tos', 'tot', 'total', 'totaling', 'totand', 'totchildren', 'toton', 'tou', 'toubut', 'tour', 'tourh', 'tov', 'toward', 'towasx', 'towfor', 'tox', 'toxbeing', 'toxin', 'toxwithin', 'toy', 'tp', 'trace', 'traces', 'track', 'tracks', 'tractable', 'trade', 'traded', 'tradendifferent', 'tradeoff', 'trades', 'trading', 'trailing', 'trans', 'transfer', 'transfor', 'transform', 'transformation', 'transformations', 'transformed', 'transforming', 'transforms', 'transformxintof', 'transitive', 'transitivity', 'translate', 'translation', 'transmit', 'transplant', 'transplantby', 'transplantdoes', 'transplantin', 'transplantprocedure', 'transpose', 'travel', 'traveling', 'travels', 'traverse', 'traverses', 'treap', 'treapis', 'treaps', 'treaptimmediately', 'treat', 'treated', 'treatingxas', 'treatment', 'treatminandmaxdifferently', 'tree', 'treeaa', 'treeaforgis', 'treeas', 'treedata', 'treeis', 'treeofg', 'treeonnkeys', 'trees', 'treesft', 'treest', 'treet', 'treetare', 'treetas', 'treetcontains', 'treetcorresponding', 'treetdt', 'treethas', 'treetin', 'treetis', 'treetish', 'treetof', 'treetofg', 'treetrepresenting', 'treetsuch', 'treettakes', 'treetto', 'treetusing', 'treetwas', 'treetwhose', 'treev', 'treevcon', 'treevholding', 'triangle', 'trices', 'trick', 'tricky', 'tried', 'tries', 'triple', 'triples', 'triply', 'trivial', 'trivially', 'trix', 'troids', 'trouble', 'troublesome', 'true', 'trueifxis', 'truly', 'truth', 'try', 'trying', 'ts', 'tsp', 'tspdfhg', 'tsuch', 'tuple', 'tuples', 'ture', 'turing', 'turn', 'turning', 'turns', 'turny', 'tvalue', 'tween', 'twice', 'twiddle', 'two', 'twoforloops', 'twon', 'twoproto', 'type', 'types', 'typi', 'typical', 'typically', 'uand', 'ubits', 'uc', 'uccessor', 'uccessorand', 'uccessoris', 'uccessoron', 'uccessoroperation', 'uccessoroperations', 'uccessorprocedure', 'uclusters', 'uct', 'ud', 'ues', 'uffmanchooses', 'uffmanis', 'uffmanon', 'uffmanproduces', 'ui', 'uicksortfrom', 'uild', 'uin', 'uinternal', 'uis', 'ular', 'ullman', 'ulti', 'ultimate', 'ultimately', 'ultiply', 'ultipop', 'umin', 'umn', 'un', 'unable', 'unadorned', 'unambiguous', 'unary', 'unavailable', 'uncertainty', 'unchanged', 'uncle', 'uncley', 'uncleyis', 'unconditionally', 'uncut', 'unde', 'under', 'undercharges', 'underlying', 'understand', 'understanding', 'understands', 'understate', 'undi', 'undirected', 'unduly', 'unequal', 'unfolds', 'unfortunately', 'unfounded', 'uni', 'uniform', 'uniformly', 'union', 'unionoperations', 'unique', 'uniquely', 'unit', 'unite', 'united', 'uniting', 'units', 'universe', 'universef', 'unknown', 'unless', 'unlessuequals', 'unlike', 'unlikely', 'unnecessary', 'unordered', 'unre', 'unrolling', 'unsatis', 'unstable', 'unsuccessful', 'unsuccessfully', 'untiljajdjbj', 'untilxbecomes', 'unusual', 'unweighted', 'up', 'update', 'updated', 'updateleft', 'updatemax', 'updateminandmax', 'updates', 'updatess', 'updatesu', 'updating', 'updatingmaxifx', 'updatingu', 'updatingy', 'uphill', 'upointers', 'upon', 'upper', 'ure', 'ures', 'us', 'use', 'used', 'useful', 'usento', 'uses', 'usesa', 'usesfto', 'useso', 'ushand', 'ushes', 'using', 'usingfto', 'usingkmulti', 'usingo', 'uso', 'usual', 'usually', 'usuperimposed', 'ut', 'uvka', 'uwill', 'vacuously', 'val', 'valid', 'valuable', 'value', 'valuecof', 'valuecomputed', 'valued', 'valuek', 'valueksuch', 'valuep', 'valueqin', 'valuer', 'values', 'valuesip', 'valuesr', 'valuex', 'valuexdoes', 'valuexinto', 'valuexis', 'valuexlies', 'valuexresides', 'van', 'vanced', 'vand', 'vari', 'variable', 'variablekindexes', 'variablemax', 'variablemin', 'variables', 'variablesfs', 'variablesleft', 'variablespandqproduces', 'variabless', 'variablesx', 'variablesxandy', 'variablesy', 'variablesz', 'variablex', 'variabley', 'variablez', 'variant', 'variants', 'variations', 'varies', 'variety', 'various', 'vary', 'vce', 'veb', 'veconsecutive', 'vector', 'vectorb', 'vectorxwith', 'vepinsinany', 'ver', 'veri', 'verify', 'verifying', 'verma', 'versa', 'verse', 'version', 'versions', 'versus', 'vertex', 'vertexrand', 'vertexs', 'vertextin', 'vertexu', 'vertexuto', 'vertexwis', 'vertexwthat', 'vertexx', 'vertical', 'vertically', 'vertices', 'verticessandt', 'verticessandtin', 'verticesu', 'verticesuand', 'verticesw', 'verticeswandy', 'veys', 'vhas', 'vi', 'via', 'viable', 'vice', 'vides', 'view', 'viewed', 'viewing', 'viewpas', 'viewqas', 'vin', 'viola', 'violate', 'violated', 'violates', 'violating', 'violation', 'violations', 'visit', 'visited', 'visiting', 'visitncities', 'visits', 'visitxwhile', 'visualizing', 'vlgv', 'vlgvcelgv', 'vof', 'volatile', 'vorp', 'vs', 'vsplits', 'wa', 'wait', 'waiting', 'walk', 'walkis', 'walks', 'walktakes', 'walkvisits', 'walkwhen', 'wandanyshortest', 'wang', 'want', 'wantmachicolationto', 'wants', 'wantx', 'wantyto', 'wappears', 'watch', 'water', 'way', 'ways', 'we', 'weaker', 'wecan', 'wede', 'wehave', 'wehavea', 'wehavef', 'wehavehigh', 'wehaven', 'wehavethat', 'wehavethata', 'wehavethatd', 'wehavethatt', 'wehavey', 'weighing', 'weighs', 'weight', 'weighted', 'weightmaximal', 'weights', 'weightw', 'weightwof', 'weiss', 'weleavem', 'well', 'wemakean', 'went', 'wesolvebin', 'western', 'weusethe', 'wewere', 'what', 'whatever', 'when', 'whenad', 'whenever', 'whenf', 'whenfobtains', 'whengis', 'wheni', 'whenidlog', 'whenj', 'whenjdi', 'whenjejd', 'whenld', 'whenn', 'whennd', 'whennis', 'whentd', 'whenu', 'whenud', 'whenuis', 'whenwis', 'whenx', 'whenxd', 'whenxis', 'wheny', 'whenyis', 'where', 'wherea', 'whereaandbare', 'whereas', 'whereb', 'wherebneed', 'wherec', 'wherecis', 'whered', 'wheredis', 'wherehis', 'wherei', 'whereiis', 'wherejdn', 'wherejejd', 'wherek', 'wherelow', 'wheremis', 'wherenis', 'wherep', 'wherer', 'wheresis', 'wheresummary', 'wherevis', 'wherewith', 'wherey', 'whether', 'whetherf', 'whetherpd', 'whetherpisapathing', 'whethersucc', 'whethertis', 'whetherv', 'whethervis', 'whetherx', 'whetherxequals', 'whetherxhas', 'whetherxis', 'whetherxwas', 'whetheryis', 'which', 'whichad', 'whichb', 'whichever', 'whichis', 'whichisa', 'whichisaproto', 'whichj', 'whichk', 'whichm', 'whichn', 'whichnis', 'whichproto', 'whichudrdue', 'whichuis', 'whichwas', 'whichwe', 'whichx', 'whichxandy', 'whichxandyare', 'whichxis', 'whileadoes', 'whilei', 'whileloop', 'whilem', 'whilex', 'white', 'whitney', 'whole', 'wholly', 'whose', 'whosekeyhas', 'whosekeyis', 'why', 'wid', 'wide', 'wider', 'widget', 'widgets', 'widgetw', 'willard', 'willing', 'williston', 'wind', 'winding', 'wire', 'wires', 'wirex', 'wise', 'wish', 'wishes', 'with', 'witha', 'withadfxg', 'withb', 'withclandtxto', 'withdunits', 'within', 'withinv', 'withinx', 'withjvj', 'withjvjver', 'withk', 'withkclauses', 'withkdirected', 'withld', 'withnd', 'withnenglish', 'withnkeys', 'withnnodes', 'withnvariables', 'withnvertices', 'without', 'withslisted', 'withsum', 'witht', 'withtd', 'withthe', 'withud', 'withveb', 'withx', 'withxasy', 'woe', 'wonderful', 'wondering', 'word', 'words', 'wordsithroughj', 'work', 'worked', 'working', 'workings', 'works', 'world', 'worry', 'worse', 'worst', 'worth', 'worthxdollars', 'worthydollars', 'would', 'write', 'writeof', 'writeoperations', 'writes', 'writewrites', 'writing', 'written', 'wrong', 'wrote', 'wthere', 'wu', 'wwe', 'xaltogether', 'xalways', 'xandybe', 'xandywhose', 'xappears', 'xc', 'xd', 'xda', 'xdha', 'xdindex', 'xed', 'xes', 'xing', 'xis', 'xmay', 'xofx', 'xpoints', 'xtended', 'xtract', 'yand', 'yap', 'ybe', 'year', 'yearj', 'years', 'yes', 'yet', 'yg', 'ygcorresponds', 'yhas', 'yi', 'yield', 'yielded', 'yielding', 'yieldingf', 'yields', 'yis', 'ylies', 'you', 'youare', 'young', 'your', 'yzpxmg', 'zdhb', 'zero']\n",
            "[1, 1, 1, 0, 2]\n"
          ]
        }
      ]
    },
    {
      "cell_type": "code",
      "source": [
        "U, Sigma, VT = randomized_svd(X, n_components=100, n_iter=100, random_state=122)\n",
        "\n",
        "svd_model = TruncatedSVD(n_components=4, algorithm='randomized', n_iter=100, random_state=122)\n",
        "\n",
        "svd_model.fit(X)\n",
        "    \n",
        "print(U.shape)\n",
        "\n",
        "for i, comp in enumerate(VT):\n",
        "    terms_comp = zip(feature_names, comp)\n",
        "    sorted_terms = sorted(terms_comp, key= lambda x:x[1], reverse=True)[:7]\n",
        "    print(\"Cluster \"+str(i)+\": \")\n",
        "    for t in sorted_terms:\n",
        "        print(t[0])\n",
        "    print(\" \")\n"
      ],
      "metadata": {
        "colab": {
          "base_uri": "https://localhost:8080/"
        },
        "id": "sqLtLMvYHsd7",
        "outputId": "37dc6990-7bf0-4412-a98d-00182f4c8884"
      },
      "execution_count": null,
      "outputs": [
        {
          "output_type": "stream",
          "name": "stdout",
          "text": [
            "(5, 5)\n",
            "Cluster 0: \n",
            "proves\n",
            "decidel\n",
            "keysd\n",
            "dfu\n",
            "sincexandyhave\n",
            "createsasubproblems\n",
            "creating\n",
            " \n",
            "Cluster 1: \n",
            "decidel\n",
            "dfu\n",
            "sincexandyhave\n",
            "vertexuto\n",
            "leave\n",
            "descends\n",
            "converting\n",
            " \n",
            "Cluster 2: \n",
            "aandbare\n",
            "aand\n",
            "aa\n",
            "decidel\n",
            "dfu\n",
            "sincexandyhave\n",
            "vertexuto\n",
            " \n",
            "Cluster 3: \n",
            "aanextensionofa\n",
            "aand\n",
            "aa\n",
            "decidel\n",
            "dfu\n",
            "sincexandyhave\n",
            "vertexuto\n",
            " \n",
            "Cluster 4: \n",
            "aandbare\n",
            "aanextensionofa\n",
            "proves\n",
            "keysd\n",
            "createsasubproblems\n",
            "creating\n",
            "recognition\n",
            " \n"
          ]
        }
      ]
    },
    {
      "cell_type": "code",
      "source": [
        "# use VT for document representation in topic space for similarity identification"
      ],
      "metadata": {
        "id": "7l6UtI2RPVZU"
      },
      "execution_count": null,
      "outputs": []
    },
    {
      "cell_type": "markdown",
      "source": [
        "### Topic Modeling : LDA Unsupervised"
      ],
      "metadata": {
        "id": "8zS5vXErKP_D"
      }
    },
    {
      "cell_type": "code",
      "source": [
        "import numpy as np\n",
        "import pandas as pd\n",
        "from IPython.display import display\n",
        "from tqdm import tqdm\n",
        "from collections import Counter\n",
        "import ast\n",
        "\n",
        "import matplotlib.pyplot as plt\n",
        "import matplotlib.mlab as mlab\n",
        "import seaborn as sb\n",
        "\n",
        "from sklearn.feature_extraction.text import CountVectorizer\n",
        "from textblob import TextBlob\n",
        "import scipy.stats as stats\n",
        "\n",
        "from sklearn.decomposition import TruncatedSVD\n",
        "from sklearn.decomposition import LatentDirichletAllocation\n",
        "from sklearn.manifold import TSNE\n",
        "\n",
        "from bokeh.plotting import figure, output_file, show\n",
        "from bokeh.models import Label\n",
        "from bokeh.io import output_notebook\n",
        "output_notebook()\n",
        "\n",
        "%matplotlib inline"
      ],
      "metadata": {
        "id": "97ixzz7oKUbo"
      },
      "execution_count": null,
      "outputs": []
    },
    {
      "cell_type": "code",
      "source": [
        "def get_top_n_words(n_top_words, count_vectorizer, text_data):\n",
        "    '''\n",
        "    returns a tuple of the top n words in a sample and their \n",
        "    accompanying counts, given a CountVectorizer object and text sample\n",
        "    '''\n",
        "    vectorized_headlines = count_vectorizer.fit_transform(text_data.values)\n",
        "    vectorized_total = np.sum(vectorized_headlines, axis=0)\n",
        "    word_indices = np.flip(np.argsort(vectorized_total)[0,:], 1)\n",
        "    word_values = np.flip(np.sort(vectorized_total)[0,:],1)\n",
        "    \n",
        "    word_vectors = np.zeros((n_top_words, vectorized_headlines.shape[1]))\n",
        "    for i in range(n_top_words):\n",
        "        word_vectors[i,word_indices[0,i]] = 1\n",
        "\n",
        "    words = [word[0] for word in count_vectorizer.inverse_transform(word_vectors)]#.encode('ascii').decode('utf-8')\n",
        "\n",
        "    return (words, word_values[0,:n_top_words].tolist()[0])\n"
      ],
      "metadata": {
        "id": "JWDdAZZEMNGJ"
      },
      "execution_count": null,
      "outputs": []
    },
    {
      "cell_type": "code",
      "source": [
        "count_vectorizer = CountVectorizer(stop_words='english')\n",
        "words, word_values = get_top_n_words(n_top_words=50,\n",
        "                                     count_vectorizer=count_vectorizer, \n",
        "                                     text_data=corman_dataset['Text Extracted'])\n",
        "\n",
        "fig, ax = plt.subplots(figsize=(16,8))\n",
        "ax.bar(range(len(words)), word_values);\n",
        "ax.set_xticks(range(len(words)));\n",
        "ax.set_xticklabels(words, rotation='vertical');\n",
        "ax.set_title('Top words in Book (excluding stop words)');\n",
        "ax.set_xlabel('Word');\n",
        "ax.set_ylabel('Number of occurences');\n",
        "plt.show()"
      ],
      "metadata": {
        "colab": {
          "base_uri": "https://localhost:8080/",
          "height": 556
        },
        "id": "2PZILoKGKbNa",
        "outputId": "1cb41e1d-7e35-4800-abb6-4f617c651e4a"
      },
      "execution_count": null,
      "outputs": [
        {
          "output_type": "display_data",
          "data": {
            "text/plain": [
              "<Figure size 1152x576 with 1 Axes>"
            ],
            "image/png": "[encoded data removed]"
          },
          "metadata": {
            "needs_background": "light"
          }
        }
      ]
    },
    {
      "cell_type": "code",
      "source": [
        "small_count_vectorizer = CountVectorizer(stop_words='english', max_features=40000)\n",
        "small_text_sample = corman_dataset['Text Extracted'].sample(n=10000, random_state=0).values\n",
        "print('Headline before vectorization: {}'.format(small_text_sample[123]))\n",
        "small_document_term_matrix = small_count_vectorizer.fit_transform(small_text_sample)\n",
        "print('Headline after vectorization: \\n{}'.format(small_document_term_matrix[123]))"
      ],
      "metadata": {
        "colab": {
          "base_uri": "https://localhost:8080/"
        },
        "id": "aPce8VrqL9ac",
        "outputId": "b5601ac7-35dd-403b-c6d3-a2c1789664d2"
      },
      "execution_count": null,
      "outputs": [
        {
          "output_type": "stream",
          "name": "stdout",
          "text": [
            "Headline before vectorization: /is maximum over all components other\n",
            "Headline after vectorization: \n",
            "  (0, 2905)\t1\n",
            "  (0, 6823)\t1\n"
          ]
        }
      ]
    },
    {
      "cell_type": "code",
      "source": [
        "n_topics = 10"
      ],
      "metadata": {
        "id": "7IxaGWIDMT-J"
      },
      "execution_count": null,
      "outputs": []
    },
    {
      "cell_type": "code",
      "source": [
        "lsa_model = TruncatedSVD(n_components=n_topics)\n",
        "lsa_topic_matrix = lsa_model.fit_transform(small_document_term_matrix)"
      ],
      "metadata": {
        "id": "-ns3sS1dOClC"
      },
      "execution_count": null,
      "outputs": []
    },
    {
      "cell_type": "code",
      "source": [
        "# Define helper functions\n",
        "def get_keys(topic_matrix):\n",
        "    '''\n",
        "    returns an integer list of predicted topic \n",
        "    categories for a given topic matrix\n",
        "    '''\n",
        "    keys = topic_matrix.argmax(axis=1).tolist()\n",
        "    return keys\n",
        "\n",
        "def keys_to_counts(keys):\n",
        "    '''\n",
        "    returns a tuple of topic categories and their \n",
        "    accompanying magnitudes for a given list of keys\n",
        "    '''\n",
        "    count_pairs = Counter(keys).items()\n",
        "    categories = [pair[0] for pair in count_pairs]\n",
        "    counts = [pair[1] for pair in count_pairs]\n",
        "    return (categories, counts)"
      ],
      "metadata": {
        "id": "oD216fJ6OHHU"
      },
      "execution_count": null,
      "outputs": []
    },
    {
      "cell_type": "code",
      "source": [
        "lsa_keys = get_keys(lsa_topic_matrix)\n",
        "lsa_categories, lsa_counts = keys_to_counts(lsa_keys)"
      ],
      "metadata": {
        "id": "NR-JNc5vOMam"
      },
      "execution_count": null,
      "outputs": []
    },
    {
      "cell_type": "code",
      "source": [
        "# Define helper functions\n",
        "def get_top_n_words(n, keys, document_term_matrix, count_vectorizer):\n",
        "    '''\n",
        "    returns a list of n_topic strings, where each string contains the n most common \n",
        "    words in a predicted category, in order\n",
        "    '''\n",
        "    top_word_indices = []\n",
        "    for topic in range(n_topics):\n",
        "        temp_vector_sum = 0\n",
        "        for i in range(len(keys)):\n",
        "            if keys[i] == topic:\n",
        "                temp_vector_sum += document_term_matrix[i]\n",
        "        temp_vector_sum = temp_vector_sum.toarray()\n",
        "        top_n_word_indices = np.flip(np.argsort(temp_vector_sum)[0][-n:],0)\n",
        "        top_word_indices.append(top_n_word_indices)   \n",
        "    top_words = []\n",
        "    for topic in top_word_indices:\n",
        "        topic_words = []\n",
        "        for index in topic:\n",
        "            temp_word_vector = np.zeros((1,document_term_matrix.shape[1]))\n",
        "            temp_word_vector[:,index] = 1\n",
        "            the_word = count_vectorizer.inverse_transform(temp_word_vector)[0][0]\n",
        "            topic_words.append(the_word)#.encode('ascii').decode('utf-8')\n",
        "        top_words.append(\" \".join(topic_words))         \n",
        "    return top_words"
      ],
      "metadata": {
        "id": "EsKfPw2COPqT"
      },
      "execution_count": null,
      "outputs": []
    },
    {
      "cell_type": "code",
      "source": [
        "top_n_words_lsa = get_top_n_words(10, lsa_keys, small_document_term_matrix, small_count_vectorizer)\n",
        "\n",
        "for i in range(len(top_n_words_lsa)):\n",
        "    print(\"Topic {}: \".format(i+1), top_n_words_lsa[i])"
      ],
      "metadata": {
        "colab": {
          "base_uri": "https://localhost:8080/"
        },
        "id": "kf3njLg-OXjX",
        "outputId": "a328d88d-242b-4521-b21d-60a4c848f4b7"
      },
      "execution_count": null,
      "outputs": [
        {
          "output_type": "stream",
          "name": "stdout",
          "text": [
            "Topic 1:  time running polynomial algorithm sort case constant bound worst takes\n",
            "Topic 2:  etb edge vertex path 2e vertices etb2v edges ﬂow weight\n",
            "Topic 3:  tree node binary key black figure minimum root trees search\n",
            "Topic 4:  algorithm efﬁcient section multithreaded problem greedy computing compute dijkstra approximation\n",
            "Topic 5:  problem solution given ﬂow np maximum linear optimal example suppose\n",
            "Topic 6:  chapter algorithms number use section shall linear 31 analysis operations\n",
            "Topic 7:  line c141 case value nul1 element figure list cost vertices\n",
            "Topic 8:  path shortest graph vertex ﬁrst paths weight simple directed vertices\n",
            "Topic 9:  ﬁrst search optimal form depth trees binary linear slack program\n",
            "Topic 10:  set function disjoint dynamic list linear object independent operations data\n"
          ]
        }
      ]
    },
    {
      "cell_type": "code",
      "source": [
        "top_3_words = get_top_n_words(3, lsa_keys, small_document_term_matrix, small_count_vectorizer)\n",
        "labels = ['Topic {}: \\n'.format(i) + top_3_words[i] for i in lsa_categories]\n",
        "\n",
        "fig, ax = plt.subplots(figsize=(16,8))\n",
        "ax.bar(lsa_categories, lsa_counts);\n",
        "ax.set_xticks(lsa_categories);\n",
        "ax.set_xticklabels(labels);\n",
        "ax.set_ylabel('');\n",
        "ax.set_title('LSA topic counts');\n",
        "plt.show()"
      ],
      "metadata": {
        "colab": {
          "base_uri": "https://localhost:8080/",
          "height": 510
        },
        "id": "zMeOKVQtOiCE",
        "outputId": "7de9394a-2775-4c3f-a033-69919a9274c7"
      },
      "execution_count": null,
      "outputs": [
        {
          "output_type": "display_data",
          "data": {
            "text/plain": [
              "<Figure size 1152x576 with 1 Axes>"
            ],
            "image/png": "[encoded data removed]"
          },
          "metadata": {
            "needs_background": "light"
          }
        }
      ]
    },
    {
      "cell_type": "code",
      "source": [
        "# tsne_lsa_model = TSNE(n_components=2, perplexity=50, learning_rate=100, \n",
        "#                         n_iter=250, verbose=1, random_state=0, angle=0.75)\n",
        "# tsne_lsa_vectors = tsne_lsa_model.fit_transform(lsa_topic_matrix)"
      ],
      "metadata": {
        "id": "sVZq9Q8LO-e2"
      },
      "execution_count": null,
      "outputs": []
    },
    {
      "cell_type": "code",
      "source": [
        ""
      ],
      "metadata": {
        "id": "FgA1IAWnPNNu"
      },
      "execution_count": null,
      "outputs": []
    },
    {
      "cell_type": "markdown",
      "source": [
        "#### LDA"
      ],
      "metadata": {
        "id": "cCBdvvI2QgMA"
      }
    },
    {
      "cell_type": "code",
      "source": [
        "lda_model = LatentDirichletAllocation(n_components=n_topics, learning_method='online', \n",
        "                                          random_state=0, verbose=0)\n",
        "lda_topic_matrix = lda_model.fit_transform(small_document_term_matrix)"
      ],
      "metadata": {
        "id": "IlgUtblHQhyJ"
      },
      "execution_count": null,
      "outputs": []
    },
    {
      "cell_type": "code",
      "source": [
        "lda_keys = get_keys(lda_topic_matrix)\n",
        "lda_categories, lda_counts = keys_to_counts(lda_keys)"
      ],
      "metadata": {
        "id": "_bU3Dq0mQjFv"
      },
      "execution_count": null,
      "outputs": []
    },
    {
      "cell_type": "code",
      "source": [
        "top_n_words_lda = get_top_n_words(10, lda_keys, small_document_term_matrix, small_count_vectorizer)\n",
        "\n",
        "for i in range(len(top_n_words_lda)):\n",
        "    print(\"Topic {}: \".format(i+1), top_n_words_lda[i])"
      ],
      "metadata": {
        "colab": {
          "base_uri": "https://localhost:8080/"
        },
        "id": "OMiOZziZQpti",
        "outputId": "f1302429-b94b-4d25-d6a2-fdd9d7145513"
      },
      "execution_count": null,
      "outputs": [
        {
          "output_type": "stream",
          "name": "stdout",
          "text": [
            "Topic 1:  time search tree ﬁrst case binary order worst cost number\n",
            "Topic 2:  chapter algorithms np matrix problem operations figure sort random operation\n",
            "Topic 3:  line algorithm number divide recursive conquer algorithms matrix ex edges\n",
            "Topic 4:  optimal solution tree black left right red ﬁnd child problem\n",
            "Topic 5:  shortest path linear vertices programming paths edge use table algorithm\n",
            "Topic 6:  ﬂow points notation pr length times given maximum asymptotic etb\n",
            "Topic 7:  time etb algorithm problem running section polynomial lines figure theorem\n",
            "Topic 8:  c141 data number value node algorithm structure trees array time\n",
            "Topic 9:  set heap elements key probability 29 linear case program linked\n",
            "Topic 10:  tree graph vertex nul1 element minimum directed c141 spanning node\n"
          ]
        }
      ]
    },
    {
      "cell_type": "code",
      "source": [
        ""
      ],
      "metadata": {
        "id": "tfBKIdeLgZ_S"
      },
      "execution_count": null,
      "outputs": []
    },
    {
      "cell_type": "code",
      "source": [
        ""
      ],
      "metadata": {
        "id": "6P8bI_uCRMSl"
      },
      "execution_count": null,
      "outputs": []
    },
    {
      "cell_type": "code",
      "source": [
        ""
      ],
      "metadata": {
        "id": "c3AM7kZAgnnP"
      },
      "execution_count": null,
      "outputs": []
    }
  ]
}